{
 "cells": [
  {
   "cell_type": "code",
   "execution_count": 4,
   "metadata": {},
   "outputs": [],
   "source": [
    "\n",
    "import functools\n",
    "import traceback\n",
    "\n",
    "\n",
    "def log_exceptions(func):\n",
    "    @functools.wraps(func)\n",
    "    def wrapper(*args, **kwargs):\n",
    "        func_name = func.__name__\n",
    "        try:\n",
    "            result = func(*args, **kwargs)\n",
    "        except Exception as e:\n",
    "            print(f\"FAILURE: {func_name} failed: {e}\")\n",
    "            traceback.print_exc()\n",
    "        else:\n",
    "            print(f\"SUCCESS: {func_name} succeeded\")\n",
    "            return result\n",
    "    return wrapper\n",
    "\n",
    "\n",
    "def decorate_methods(decorator):\n",
    "    def decorate(obj):\n",
    "        if isinstance(obj, type):\n",
    "            # Decorate class methods\n",
    "            for name, method in vars(obj).items():\n",
    "                if callable(method):\n",
    "                    setattr(obj, name, decorator(method))\n",
    "            return obj\n",
    "        else:\n",
    "            # Decorate standalone functions\n",
    "            return decorator(obj)\n",
    "    return decorate\n",
    "\n",
    "\n",
    "%load_ext autoreload\n",
    "%autoreload 2"
   ]
  },
  {
   "cell_type": "code",
   "execution_count": 15,
   "metadata": {},
   "outputs": [
    {
     "name": "stdout",
     "output_type": "stream",
     "text": [
      "base_directory: /Users/wattjer/Desktop/quick_batch\n",
      "processor_path: /Users/wattjer/Desktop/quick_batch/quick_batch/processor_app\n",
      "controller_path: /Users/wattjer/Desktop/quick_batch/quick_batch/controller_app\n",
      "queue_path: /Users/wattjer/Desktop/quick_batch/quick_batch/queue_app\n",
      "config_path: /Users/wattjer/Desktop/quick_batch/tests/test_configs/test_quick_batch.yaml\n",
      "input_path: /Users/wattjer/Desktop/quick_batch/tests/test_data/input_data\n",
      "output_path: /Users/wattjer/Desktop/quick_batch/tests/test_data/output_data\n"
     ]
    }
   ],
   "source": [
    "import os \n",
    "import sys \n",
    "\n",
    "# path to this file's directory and parent directory\n",
    "current_directory = os.getcwd()\n",
    "base_directory = os.path.dirname(current_directory)\n",
    "\n",
    "# parent directory of base_directory\n",
    "parent_directory = os.path.dirname(base_directory)\n",
    "\n",
    "# add to path\n",
    "sys.path.append(base_directory)\n",
    "\n",
    "# define paths to each app dockerfile location \n",
    "processor_path = os.path.join(base_directory, 'quick_batch', 'processor_app')\n",
    "controller_path = os.path.join(base_directory, 'quick_batch', 'controller_app')\n",
    "queue_path = os.path.join(base_directory, 'quick_batch', 'queue_app')\n",
    "config_path = os.path.join(base_directory, 'tests/test_configs', 'test_quick_batch.yaml')\n",
    "input_path = os.path.join(base_directory, 'tests/test_data', 'input_data')\n",
    "output_path = os.path.join(base_directory, 'tests/test_data', 'output_data')\n",
    "\n",
    "print(f'base_directory: {base_directory}')\n",
    "print(f'processor_path: {processor_path}')\n",
    "print(f'controller_path: {controller_path}')\n",
    "print(f'queue_path: {queue_path}')\n",
    "print(f'config_path: {config_path}')\n",
    "print(f'input_path: {input_path}')\n",
    "print(f'output_path: {output_path}')\n",
    "\n"
   ]
  },
  {
   "attachments": {},
   "cell_type": "markdown",
   "metadata": {},
   "source": [
    "# services and swarm"
   ]
  },
  {
   "cell_type": "code",
   "execution_count": 1,
   "metadata": {},
   "outputs": [],
   "source": [
    "import shutil\n",
    "import os\n",
    "import sys\n",
    "import docker "
   ]
  },
  {
   "cell_type": "code",
   "execution_count": 28,
   "metadata": {},
   "outputs": [],
   "source": [
    "@log_exceptions\n",
    "def create_client():\n",
    "    return docker.from_env()\n",
    "\n",
    "@log_exceptions\n",
    "def create_network(client):\n",
    "    if 'quick_batch_network' not in [network.name for network in client.networks.list()]:\n",
    "        client.networks.create('quick_batch_network', driver='overlay')\n",
    "\n",
    "@log_exceptions\n",
    "def leave_swarm(client):\n",
    "    client.swarm.leave(force=True)\n",
    "        \n",
    "@log_exceptions\n",
    "def create_swarm(client):\n",
    "    client.swarm.init()\n",
    "\n",
    "@log_exceptions\n",
    "def remove_service(client, service_name):\n",
    "    if service_name in [service.name for service in client.services.list()]:\n",
    "        client.services.get(service_name).remove()\n",
    "\n",
    "@log_exceptions\n",
    "def create_queue_service(client):\n",
    "    # remove queue_app service if it exists\n",
    "    remove_service(client, 'queue_app')\n",
    "    \n",
    "    # Define the mounts for the service containers\n",
    "    mounts = [\n",
    "        docker.types.Mount(\n",
    "            type='bind',\n",
    "            source=queue_path + '/queue_app',\n",
    "            target='/queue_app',\n",
    "            read_only=True\n",
    "        ),\n",
    "        docker.types.Mount(\n",
    "            type='bind',\n",
    "            source=config_path,\n",
    "            target='/my_configs/config.yaml',\n",
    "            read_only=True\n",
    "        ),\n",
    "        docker.types.Mount(\n",
    "            type='bind',\n",
    "            source=input_path,\n",
    "            target='/my_data/input',\n",
    "            read_only=True\n",
    "        ),\n",
    "    ]\n",
    "\n",
    "    # Define the service configuration\n",
    "    service_config = {\n",
    "        'image': 'quick_batch_queue_app',\n",
    "        'name': 'queue_app',\n",
    "        'mounts': mounts,\n",
    "        'networks':['quick_batch_network'],\n",
    "    }\n",
    "\n",
    "    # Create the service\n",
    "    service = client.services.create(**service_config)\n",
    "    return service\n"
   ]
  },
  {
   "cell_type": "code",
   "execution_count": 23,
   "metadata": {},
   "outputs": [
    {
     "name": "stdout",
     "output_type": "stream",
     "text": [
      "SUCCESS: leave_swarm succeeded\n",
      "SUCCESS: create_swarm succeeded\n",
      "SUCCESS: create_network succeeded\n"
     ]
    }
   ],
   "source": [
    "# creater docker client\n",
    "client = docker.from_env()\n",
    "\n",
    "# remove swarms \n",
    "leave_swarm(client)\n",
    "\n",
    "# create new swarm\n",
    "create_swarm(client)\n",
    "\n",
    "# create network\n",
    "create_network(client)\n",
    "\n",
    "# create queue service\n",
    "queue_service = create_queue_service(client)"
   ]
  },
  {
   "cell_type": "code",
   "execution_count": 29,
   "metadata": {},
   "outputs": [],
   "source": [
    "# remove queue_app service if it exists\n",
    "remove_service(client, 'queue_app')\n",
    "\n",
    "# Define the mounts for the service containers\n",
    "mounts = [\n",
    "    docker.types.Mount(\n",
    "        type='bind',\n",
    "        source=queue_path + '/queue_app',\n",
    "        target='/queue_app',\n",
    "        read_only=True\n",
    "    ),\n",
    "    docker.types.Mount(\n",
    "        type='bind',\n",
    "        source=config_path,\n",
    "        target='/my_configs/config.yaml',\n",
    "        read_only=True\n",
    "    ),\n",
    "    docker.types.Mount(\n",
    "        type='bind',\n",
    "        source=input_path,\n",
    "        target='/my_data/input',\n",
    "        read_only=True\n",
    "    ),\n",
    "]\n",
    "\n",
    "# Define the service configuration\n",
    "service_config = {\n",
    "    'image': 'quick_batch_queue_app',\n",
    "    'name': 'queue_app',\n",
    "    'mounts': mounts,\n",
    "    'networks':['quick_batch_network'],\n",
    "}\n",
    "\n",
    "# Create the service\n",
    "service = client.services.create(**service_config)"
   ]
  },
  {
   "cell_type": "code",
   "execution_count": 30,
   "metadata": {},
   "outputs": [
    {
     "name": "stdout",
     "output_type": "stream",
     "text": [
      "SUCCESS: remove_service succeeded\n",
      "SUCCESS: create_queue_service succeeded\n"
     ]
    }
   ],
   "source": [
    "queue_service = create_queue_service(client)"
   ]
  },
  {
   "cell_type": "code",
   "execution_count": null,
   "metadata": {},
   "outputs": [],
   "source": []
  },
  {
   "cell_type": "code",
   "execution_count": 18,
   "metadata": {},
   "outputs": [
    {
     "ename": "APIError",
     "evalue": "403 Client Error for http+docker://localhost/v1.41/services/create: Forbidden (\"The network quick_batch_network cannot be used with services. Only networks scoped to the swarm can be used, such as those created with the overlay driver.\")",
     "output_type": "error",
     "traceback": [
      "\u001b[0;31m---------------------------------------------------------------------------\u001b[0m",
      "\u001b[0;31mHTTPError\u001b[0m                                 Traceback (most recent call last)",
      "File \u001b[0;32m~/Desktop/quick_batch/.venv/lib/python3.9/site-packages/docker/api/client.py:268\u001b[0m, in \u001b[0;36mAPIClient._raise_for_status\u001b[0;34m(self, response)\u001b[0m\n\u001b[1;32m    267\u001b[0m \u001b[39mtry\u001b[39;00m:\n\u001b[0;32m--> 268\u001b[0m     response\u001b[39m.\u001b[39;49mraise_for_status()\n\u001b[1;32m    269\u001b[0m \u001b[39mexcept\u001b[39;00m requests\u001b[39m.\u001b[39mexceptions\u001b[39m.\u001b[39mHTTPError \u001b[39mas\u001b[39;00m e:\n",
      "File \u001b[0;32m~/Desktop/quick_batch/.venv/lib/python3.9/site-packages/requests/models.py:1021\u001b[0m, in \u001b[0;36mResponse.raise_for_status\u001b[0;34m(self)\u001b[0m\n\u001b[1;32m   1020\u001b[0m \u001b[39mif\u001b[39;00m http_error_msg:\n\u001b[0;32m-> 1021\u001b[0m     \u001b[39mraise\u001b[39;00m HTTPError(http_error_msg, response\u001b[39m=\u001b[39m\u001b[39mself\u001b[39m)\n",
      "\u001b[0;31mHTTPError\u001b[0m: 403 Client Error: Forbidden for url: http+docker://localhost/v1.41/services/create",
      "\nThe above exception was the direct cause of the following exception:\n",
      "\u001b[0;31mAPIError\u001b[0m                                  Traceback (most recent call last)",
      "Cell \u001b[0;32mIn[18], line 2\u001b[0m\n\u001b[1;32m      1\u001b[0m \u001b[39m# create queue_app service\u001b[39;00m\n\u001b[0;32m----> 2\u001b[0m client\u001b[39m.\u001b[39;49mservices\u001b[39m.\u001b[39;49mcreate(image\u001b[39m=\u001b[39;49m\u001b[39m'\u001b[39;49m\u001b[39mquick_batch_queue_app\u001b[39;49m\u001b[39m'\u001b[39;49m,\n\u001b[1;32m      3\u001b[0m                        name\u001b[39m=\u001b[39;49m\u001b[39m'\u001b[39;49m\u001b[39mqueue_app\u001b[39;49m\u001b[39m'\u001b[39;49m,\n\u001b[1;32m      4\u001b[0m                        networks\u001b[39m=\u001b[39;49m[\u001b[39m'\u001b[39;49m\u001b[39mquick_batch_network\u001b[39;49m\u001b[39m'\u001b[39;49m],\n\u001b[1;32m      5\u001b[0m                        command\u001b[39m=\u001b[39;49m\u001b[39m'\u001b[39;49m\u001b[39mpython /queue_app/run.py\u001b[39;49m\u001b[39m'\u001b[39;49m,\n\u001b[1;32m      6\u001b[0m                        mounts\u001b[39m=\u001b[39;49m{\n\u001b[1;32m      7\u001b[0m                                 queue_path \u001b[39m+\u001b[39;49m \u001b[39m'\u001b[39;49m\u001b[39m/queue_app\u001b[39;49m\u001b[39m'\u001b[39;49m:\n\u001b[1;32m      8\u001b[0m                                 {\u001b[39m'\u001b[39;49m\u001b[39mbind\u001b[39;49m\u001b[39m'\u001b[39;49m: \u001b[39m'\u001b[39;49m\u001b[39m/queue_app\u001b[39;49m\u001b[39m'\u001b[39;49m, \u001b[39m'\u001b[39;49m\u001b[39mmode\u001b[39;49m\u001b[39m'\u001b[39;49m: \u001b[39m'\u001b[39;49m\u001b[39mro\u001b[39;49m\u001b[39m'\u001b[39;49m},\n\u001b[1;32m      9\u001b[0m                                 config_path:\n\u001b[1;32m     10\u001b[0m                                 {\u001b[39m'\u001b[39;49m\u001b[39mbind\u001b[39;49m\u001b[39m'\u001b[39;49m: \u001b[39m'\u001b[39;49m\u001b[39m/my_configs/config.yaml\u001b[39;49m\u001b[39m'\u001b[39;49m, \u001b[39m'\u001b[39;49m\u001b[39mmode\u001b[39;49m\u001b[39m'\u001b[39;49m: \u001b[39m'\u001b[39;49m\u001b[39mro\u001b[39;49m\u001b[39m'\u001b[39;49m},\n\u001b[1;32m     11\u001b[0m                                 input_path:\n\u001b[1;32m     12\u001b[0m                                 {\u001b[39m'\u001b[39;49m\u001b[39mbind\u001b[39;49m\u001b[39m'\u001b[39;49m: \u001b[39m'\u001b[39;49m\u001b[39m/my_data/input\u001b[39;49m\u001b[39m'\u001b[39;49m, \u001b[39m'\u001b[39;49m\u001b[39mmode\u001b[39;49m\u001b[39m'\u001b[39;49m: \u001b[39m'\u001b[39;49m\u001b[39mro\u001b[39;49m\u001b[39m'\u001b[39;49m},\n\u001b[1;32m     13\u001b[0m                         })\n",
      "File \u001b[0;32m~/Desktop/quick_batch/.venv/lib/python3.9/site-packages/docker/models/services.py:233\u001b[0m, in \u001b[0;36mServiceCollection.create\u001b[0;34m(self, image, command, **kwargs)\u001b[0m\n\u001b[1;32m    231\u001b[0m kwargs[\u001b[39m'\u001b[39m\u001b[39mcommand\u001b[39m\u001b[39m'\u001b[39m] \u001b[39m=\u001b[39m command\n\u001b[1;32m    232\u001b[0m create_kwargs \u001b[39m=\u001b[39m _get_create_service_kwargs(\u001b[39m'\u001b[39m\u001b[39mcreate\u001b[39m\u001b[39m'\u001b[39m, kwargs)\n\u001b[0;32m--> 233\u001b[0m service_id \u001b[39m=\u001b[39m \u001b[39mself\u001b[39;49m\u001b[39m.\u001b[39;49mclient\u001b[39m.\u001b[39;49mapi\u001b[39m.\u001b[39;49mcreate_service(\u001b[39m*\u001b[39;49m\u001b[39m*\u001b[39;49mcreate_kwargs)\n\u001b[1;32m    234\u001b[0m \u001b[39mreturn\u001b[39;00m \u001b[39mself\u001b[39m\u001b[39m.\u001b[39mget(service_id)\n",
      "File \u001b[0;32m~/Desktop/quick_batch/.venv/lib/python3.9/site-packages/docker/utils/decorators.py:34\u001b[0m, in \u001b[0;36mminimum_version.<locals>.decorator.<locals>.wrapper\u001b[0;34m(self, *args, **kwargs)\u001b[0m\n\u001b[1;32m     28\u001b[0m \u001b[39mif\u001b[39;00m utils\u001b[39m.\u001b[39mversion_lt(\u001b[39mself\u001b[39m\u001b[39m.\u001b[39m_version, version):\n\u001b[1;32m     29\u001b[0m     \u001b[39mraise\u001b[39;00m errors\u001b[39m.\u001b[39mInvalidVersion(\n\u001b[1;32m     30\u001b[0m         \u001b[39m'\u001b[39m\u001b[39m{}\u001b[39;00m\u001b[39m is not available for version < \u001b[39m\u001b[39m{}\u001b[39;00m\u001b[39m'\u001b[39m\u001b[39m.\u001b[39mformat(\n\u001b[1;32m     31\u001b[0m             f\u001b[39m.\u001b[39m\u001b[39m__name__\u001b[39m, version\n\u001b[1;32m     32\u001b[0m         )\n\u001b[1;32m     33\u001b[0m     )\n\u001b[0;32m---> 34\u001b[0m \u001b[39mreturn\u001b[39;00m f(\u001b[39mself\u001b[39;49m, \u001b[39m*\u001b[39;49margs, \u001b[39m*\u001b[39;49m\u001b[39m*\u001b[39;49mkwargs)\n",
      "File \u001b[0;32m~/Desktop/quick_batch/.venv/lib/python3.9/site-packages/docker/api/service.py:189\u001b[0m, in \u001b[0;36mServiceApiMixin.create_service\u001b[0;34m(self, task_template, name, labels, mode, update_config, networks, endpoint_config, endpoint_spec, rollback_config)\u001b[0m\n\u001b[1;32m    186\u001b[0m \u001b[39mif\u001b[39;00m rollback_config \u001b[39mis\u001b[39;00m \u001b[39mnot\u001b[39;00m \u001b[39mNone\u001b[39;00m:\n\u001b[1;32m    187\u001b[0m     data[\u001b[39m'\u001b[39m\u001b[39mRollbackConfig\u001b[39m\u001b[39m'\u001b[39m] \u001b[39m=\u001b[39m rollback_config\n\u001b[0;32m--> 189\u001b[0m \u001b[39mreturn\u001b[39;00m \u001b[39mself\u001b[39;49m\u001b[39m.\u001b[39;49m_result(\n\u001b[1;32m    190\u001b[0m     \u001b[39mself\u001b[39;49m\u001b[39m.\u001b[39;49m_post_json(url, data\u001b[39m=\u001b[39;49mdata, headers\u001b[39m=\u001b[39;49mheaders), \u001b[39mTrue\u001b[39;49;00m\n\u001b[1;32m    191\u001b[0m )\n",
      "File \u001b[0;32m~/Desktop/quick_batch/.venv/lib/python3.9/site-packages/docker/api/client.py:274\u001b[0m, in \u001b[0;36mAPIClient._result\u001b[0;34m(self, response, json, binary)\u001b[0m\n\u001b[1;32m    272\u001b[0m \u001b[39mdef\u001b[39;00m \u001b[39m_result\u001b[39m(\u001b[39mself\u001b[39m, response, json\u001b[39m=\u001b[39m\u001b[39mFalse\u001b[39;00m, binary\u001b[39m=\u001b[39m\u001b[39mFalse\u001b[39;00m):\n\u001b[1;32m    273\u001b[0m     \u001b[39massert\u001b[39;00m \u001b[39mnot\u001b[39;00m (json \u001b[39mand\u001b[39;00m binary)\n\u001b[0;32m--> 274\u001b[0m     \u001b[39mself\u001b[39;49m\u001b[39m.\u001b[39;49m_raise_for_status(response)\n\u001b[1;32m    276\u001b[0m     \u001b[39mif\u001b[39;00m json:\n\u001b[1;32m    277\u001b[0m         \u001b[39mreturn\u001b[39;00m response\u001b[39m.\u001b[39mjson()\n",
      "File \u001b[0;32m~/Desktop/quick_batch/.venv/lib/python3.9/site-packages/docker/api/client.py:270\u001b[0m, in \u001b[0;36mAPIClient._raise_for_status\u001b[0;34m(self, response)\u001b[0m\n\u001b[1;32m    268\u001b[0m     response\u001b[39m.\u001b[39mraise_for_status()\n\u001b[1;32m    269\u001b[0m \u001b[39mexcept\u001b[39;00m requests\u001b[39m.\u001b[39mexceptions\u001b[39m.\u001b[39mHTTPError \u001b[39mas\u001b[39;00m e:\n\u001b[0;32m--> 270\u001b[0m     \u001b[39mraise\u001b[39;00m create_api_error_from_http_exception(e) \u001b[39mfrom\u001b[39;00m \u001b[39me\u001b[39;00m\n",
      "File \u001b[0;32m~/Desktop/quick_batch/.venv/lib/python3.9/site-packages/docker/errors.py:39\u001b[0m, in \u001b[0;36mcreate_api_error_from_http_exception\u001b[0;34m(e)\u001b[0m\n\u001b[1;32m     37\u001b[0m     \u001b[39melse\u001b[39;00m:\n\u001b[1;32m     38\u001b[0m         \u001b[39mcls\u001b[39m \u001b[39m=\u001b[39m NotFound\n\u001b[0;32m---> 39\u001b[0m \u001b[39mraise\u001b[39;00m \u001b[39mcls\u001b[39m(e, response\u001b[39m=\u001b[39mresponse, explanation\u001b[39m=\u001b[39mexplanation) \u001b[39mfrom\u001b[39;00m \u001b[39me\u001b[39;00m\n",
      "\u001b[0;31mAPIError\u001b[0m: 403 Client Error for http+docker://localhost/v1.41/services/create: Forbidden (\"The network quick_batch_network cannot be used with services. Only networks scoped to the swarm can be used, such as those created with the overlay driver.\")"
     ]
    }
   ],
   "source": [
    "\n",
    "    \n",
    "# create queue_app service\n",
    "client.services.create(image='quick_batch_queue_app',\n",
    "                       name='queue_app',\n",
    "                       networks=['quick_batch_network'],\n",
    "                       command='python /queue_app/run.py',\n",
    "                       mounts={\n",
    "                                queue_path + '/queue_app':\n",
    "                                {'bind': '/queue_app', 'mode': 'ro'},\n",
    "                                config_path:\n",
    "                                {'bind': '/my_configs/config.yaml', 'mode': 'ro'},\n",
    "                                input_path:\n",
    "                                {'bind': '/my_data/input', 'mode': 'ro'},\n",
    "                        })"
   ]
  },
  {
   "cell_type": "code",
   "execution_count": null,
   "metadata": {},
   "outputs": [],
   "source": []
  }
 ],
 "metadata": {
  "kernelspec": {
   "display_name": ".venv",
   "language": "python",
   "name": "python3"
  },
  "language_info": {
   "codemirror_mode": {
    "name": "ipython",
    "version": 3
   },
   "file_extension": ".py",
   "mimetype": "text/x-python",
   "name": "python",
   "nbconvert_exporter": "python",
   "pygments_lexer": "ipython3",
   "version": "3.9.1"
  },
  "orig_nbformat": 4
 },
 "nbformat": 4,
 "nbformat_minor": 2
}
