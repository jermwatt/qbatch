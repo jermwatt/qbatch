{
 "cells": [
  {
   "cell_type": "code",
   "execution_count": 37,
   "metadata": {},
   "outputs": [
    {
     "name": "stdout",
     "output_type": "stream",
     "text": [
      "The autoreload extension is already loaded. To reload it, use:\n",
      "  %reload_ext autoreload\n"
     ]
    }
   ],
   "source": [
    "\n",
    "import functools\n",
    "import traceback\n",
    "\n",
    "\n",
    "def log_exceptions(func):\n",
    "    @functools.wraps(func)\n",
    "    def wrapper(*args, **kwargs):\n",
    "        func_name = func.__name__\n",
    "        try:\n",
    "            result = func(*args, **kwargs)\n",
    "        except Exception as e:\n",
    "            print(f\"FAILURE: {func_name} failed: {e}\")\n",
    "            traceback.print_exc()\n",
    "        else:\n",
    "            print(f\"SUCCESS: {func_name} succeeded\")\n",
    "            return result\n",
    "    return wrapper\n",
    "\n",
    "\n",
    "def decorate_methods(decorator):\n",
    "    def decorate(obj):\n",
    "        if isinstance(obj, type):\n",
    "            # Decorate class methods\n",
    "            for name, method in vars(obj).items():\n",
    "                if callable(method):\n",
    "                    setattr(obj, name, decorator(method))\n",
    "            return obj\n",
    "        else:\n",
    "            # Decorate standalone functions\n",
    "            return decorator(obj)\n",
    "    return decorate\n",
    "\n",
    "\n",
    "%load_ext autoreload\n",
    "%autoreload 2"
   ]
  },
  {
   "cell_type": "code",
   "execution_count": 2,
   "metadata": {},
   "outputs": [],
   "source": [
    "import os \n",
    "import sys \n",
    "\n",
    "# path to this file's directory and parent directory\n",
    "current_directory = os.getcwd()\n",
    "base_directory = os.path.dirname(current_directory)\n",
    "\n",
    "# parent directory of base_directory\n",
    "parent_directory = os.path.dirname(base_directory)\n",
    "\n",
    "# add to path\n",
    "sys.path.append(base_directory)\n",
    "\n",
    "# define paths to each app dockerfile location \n",
    "processor_path = os.path.join(base_directory, 'quick_batch', 'processor_app')\n",
    "controller_path = os.path.join(base_directory, 'quick_batch', 'controller_app')\n",
    "queue_path = os.path.join(base_directory, 'quick_batch', 'queue_app')\n"
   ]
  },
  {
   "cell_type": "code",
   "execution_count": 3,
   "metadata": {},
   "outputs": [
    {
     "data": {
      "text/plain": [
       "'/Users/wattjer/Desktop'"
      ]
     },
     "execution_count": 3,
     "metadata": {},
     "output_type": "execute_result"
    }
   ],
   "source": [
    "parent_directory"
   ]
  },
  {
   "attachments": {},
   "cell_type": "markdown",
   "metadata": {},
   "source": []
  },
  {
   "cell_type": "code",
   "execution_count": 46,
   "metadata": {},
   "outputs": [],
   "source": [
    "import shutil\n",
    "import os\n",
    "import sys\n",
    "import docker \n",
    "\n",
    "\n",
    "# path to this file's directory and parent directory\n",
    "current_directory = os.getcwd()\n",
    "base_directory = os.path.dirname(current_directory)\n",
    "\n",
    "# add to path\n",
    "sys.path.append(base_directory)\n",
    "\n",
    "# define paths to each app dockerfile location \n",
    "processor_path = os.path.join(base_directory, 'quick_batch', 'processor_app')\n",
    "controller_path = os.path.join(base_directory, 'quick_batch', 'controller_app')\n",
    "queue_path = os.path.join(base_directory, 'quick_batch', 'queue_app')\n",
    "\n",
    "\n",
    "# create client for docker\n",
    "@log_exceptions\n",
    "def create_client():\n",
    "    return docker.from_env()\n",
    "\n",
    "# remove all docker containers\n",
    "@log_exceptions\n",
    "def remove_all_containers(client):\n",
    "    for container in client.containers.list(all=True):\n",
    "        container.remove(force=True)\n",
    "\n",
    "# build processor_app docker image\n",
    "@log_exceptions\n",
    "def build_processor_image(client, processor_path):\n",
    "    # copy processor requirements.txt to processor_app directory to roll into dockerfile\n",
    "    shutil.copyfile(os.path.join(base_directory, 'processor_requirements.txt'), os.path.join(processor_path, 'processor_requirements.txt'));\n",
    "\n",
    "    # create docker image for processor app - including user defined requirements\n",
    "    client.images.build(path=processor_path, tag='quick_batch_processor_app', quiet=False)\n",
    "\n",
    "    # remove processor_requirements.txt from the processor_path directory \n",
    "    os.remove(os.path.join(processor_path, 'processor_requirements.txt'))\n",
    "    \n",
    "@log_exceptions\n",
    "def build_queue_image(client, queue_path):\n",
    "    # create docker image for queue app - including user defined requirements\n",
    "    client.images.build(path=queue_path, tag='quick_batch_queue_app', quiet=False)\n",
    "    \n",
    "@log_exceptions\n",
    "def build_controller_image(client, controller_path):\n",
    "    # create docker image for queue app - including user defined requirements\n",
    "    client.images.build(path=controller_path, tag='quick_batch_controller_app', quiet=False)"
   ]
  },
  {
   "cell_type": "code",
   "execution_count": 74,
   "metadata": {},
   "outputs": [
    {
     "name": "stdout",
     "output_type": "stream",
     "text": [
      "SUCCESS: create_client succeeded\n",
      "SUCCESS: build_processor_image succeeded\n",
      "SUCCESS: build_queue_image succeeded\n",
      "SUCCESS: build_controller_image succeeded\n"
     ]
    }
   ],
   "source": [
    "client = create_client()\n",
    "\n",
    "build_processor_image(client, \n",
    "                      processor_path)\n",
    "\n",
    "build_queue_image(client,\n",
    "                  queue_path)\n",
    "\n",
    "build_controller_image(client,\n",
    "                       controller_path)\n",
    "\n",
    "\n",
    "# remove_all_containers(client)"
   ]
  },
  {
   "cell_type": "code",
   "execution_count": 56,
   "metadata": {},
   "outputs": [],
   "source": [
    "# start processor_app docker container with interactive terminal\n",
    "processor_app_test = client.containers.run('quick_batch_processor_app', \n",
    "                                           detach=True, \n",
    "                                           name='processor_app', \n",
    "                                           tty=True, \n",
    "                                           stdin_open=True, \n",
    "                                           ports={'5000/tcp': 5000},\n",
    "                                           volumes={\n",
    "                                               processor_path + '/processor_app': \n",
    "                                               {'bind': '/my_app', 'mode': 'rw'},\n",
    "                                               base_directory + '/processor.py':\n",
    "                                               {'bind': '/my_app/processor.py', 'mode': 'rw'},\n",
    "                                           },\n",
    "                                           command = 'python /my_app/run.py'\n",
    "                                          );"
   ]
  },
  {
   "cell_type": "code",
   "execution_count": 103,
   "metadata": {},
   "outputs": [],
   "source": [
    "# start queue_app docker container with interactive terminal\n",
    "queue_app_test = client.containers.run('quick_batch_queue_app',\n",
    "                                        detach=True,\n",
    "                                        name='queue_app',\n",
    "                                        tty=True,\n",
    "                                        stdin_open=True,\n",
    "                                        ports={'80/tcp': 80},\n",
    "                                        volumes={\n",
    "                                            queue_path + '/queue_app':  \n",
    "                                            {'bind': '/my_app', 'mode': 'rw'},\n",
    "                                            base_directory + '/processor.py':\n",
    "                                            {'bind': '/my_app/processor.py', 'mode': 'rw'},             \n",
    "                                        },\n",
    "                                        command = 'python /my_app/run.py'\n",
    "                                        );"
   ]
  },
  {
   "cell_type": "code",
   "execution_count": 93,
   "metadata": {},
   "outputs": [
    {
     "data": {
      "text/plain": [
       "ExecResult(exit_code=None, output='')"
      ]
     },
     "execution_count": 93,
     "metadata": {},
     "output_type": "execute_result"
    }
   ],
   "source": [
    "queue_app_test.exec_run(cmd='cat /my_app/queue_app/processor.py',\n",
    "                        detach=True,\n",
    "                        stream=True,\n",
    "                        tty=True,\n",
    "                        stdout=True,\n",
    "                        stderr=True)"
   ]
  },
  {
   "cell_type": "code",
   "execution_count": 85,
   "metadata": {},
   "outputs": [
    {
     "name": "stdout",
     "output_type": "stream",
     "text": [
      "b'Python 3.10.11 (main, May  3 2023, 08:40:14) [GCC 10.2.1 20210110] on linux\\r\\nType \"help\", \"copyright\", \"credits\" or \"license\" for more information.\\r\\n'\n"
     ]
    }
   ],
   "source": [
    "print(queue_app_test.logs())"
   ]
  },
  {
   "cell_type": "code",
   "execution_count": 102,
   "metadata": {},
   "outputs": [
    {
     "name": "stdout",
     "output_type": "stream",
     "text": [
      "SUCCESS: remove_all_containers succeeded\n"
     ]
    }
   ],
   "source": [
    "remove_all_containers(client)"
   ]
  },
  {
   "cell_type": "code",
   "execution_count": 36,
   "metadata": {},
   "outputs": [
    {
     "data": {
      "text/plain": [
       "'processor_app'"
      ]
     },
     "execution_count": 36,
     "metadata": {},
     "output_type": "execute_result"
    }
   ],
   "source": [
    "# start process\n",
    "processor_app_test"
   ]
  },
  {
   "cell_type": "code",
   "execution_count": null,
   "metadata": {},
   "outputs": [],
   "source": [
    "# execute hello_world.py in processor_app docker container\n",
    "processor_app_test.exec_run('python3 -m processor_app.hello_world')"
   ]
  },
  {
   "cell_type": "code",
   "execution_count": 32,
   "metadata": {},
   "outputs": [
    {
     "ename": "TypeError",
     "evalue": "list() got an unexpected keyword argument 'status'",
     "output_type": "error",
     "traceback": [
      "\u001b[0;31m---------------------------------------------------------------------------\u001b[0m",
      "\u001b[0;31mTypeError\u001b[0m                                 Traceback (most recent call last)",
      "Cell \u001b[0;32mIn[32], line 2\u001b[0m\n\u001b[1;32m      1\u001b[0m \u001b[39m# list running docker containers by name\u001b[39;00m\n\u001b[0;32m----> 2\u001b[0m client\u001b[39m.\u001b[39;49mcontainers\u001b[39m.\u001b[39;49mlist(\u001b[39mall\u001b[39;49m\u001b[39m=\u001b[39;49m\u001b[39mTrue\u001b[39;49;00m, filters\u001b[39m=\u001b[39;49m{\u001b[39m'\u001b[39;49m\u001b[39mname\u001b[39;49m\u001b[39m'\u001b[39;49m: \u001b[39m'\u001b[39;49m\u001b[39mprocessor_app\u001b[39;49m\u001b[39m'\u001b[39;49m}, status\u001b[39m=\u001b[39;49m\u001b[39m'\u001b[39;49m\u001b[39mrunning\u001b[39;49m\u001b[39m'\u001b[39;49m)\n",
      "\u001b[0;31mTypeError\u001b[0m: list() got an unexpected keyword argument 'status'"
     ]
    }
   ],
   "source": [
    "# list running docker containers by name\n",
    "client.containers.list(all=True, filters={'name': 'processor_app'},)\n"
   ]
  },
  {
   "cell_type": "code",
   "execution_count": 27,
   "metadata": {},
   "outputs": [],
   "source": []
  },
  {
   "cell_type": "code",
   "execution_count": 28,
   "metadata": {},
   "outputs": [],
   "source": [
    "# list current docker images \n",
    "client.images.list()"
   ]
  },
  {
   "cell_type": "code",
   "execution_count": null,
   "metadata": {},
   "outputs": [],
   "source": [
    "a"
   ]
  },
  {
   "cell_type": "code",
   "execution_count": null,
   "metadata": {},
   "outputs": [],
   "source": []
  }
 ],
 "metadata": {
  "kernelspec": {
   "display_name": ".venv",
   "language": "python",
   "name": "python3"
  },
  "language_info": {
   "codemirror_mode": {
    "name": "ipython",
    "version": 3
   },
   "file_extension": ".py",
   "mimetype": "text/x-python",
   "name": "python",
   "nbconvert_exporter": "python",
   "pygments_lexer": "ipython3",
   "version": "3.9.1"
  },
  "orig_nbformat": 4
 },
 "nbformat": 4,
 "nbformat_minor": 2
}
