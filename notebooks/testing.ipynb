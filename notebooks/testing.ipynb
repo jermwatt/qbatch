{
 "cells": [
  {
   "cell_type": "code",
   "execution_count": 1,
   "metadata": {},
   "outputs": [],
   "source": [
    "\n",
    "import functools\n",
    "import traceback\n",
    "\n",
    "\n",
    "def log_exceptions(func):\n",
    "    @functools.wraps(func)\n",
    "    def wrapper(*args, **kwargs):\n",
    "        func_name = func.__name__\n",
    "        try:\n",
    "            result = func(*args, **kwargs)\n",
    "        except Exception as e:\n",
    "            print(f\"FAILURE: {func_name} failed: {e}\")\n",
    "            traceback.print_exc()\n",
    "        else:\n",
    "            print(f\"SUCCESS: {func_name} succeeded\")\n",
    "            return result\n",
    "    return wrapper\n",
    "\n",
    "\n",
    "def decorate_methods(decorator):\n",
    "    def decorate(obj):\n",
    "        if isinstance(obj, type):\n",
    "            # Decorate class methods\n",
    "            for name, method in vars(obj).items():\n",
    "                if callable(method):\n",
    "                    setattr(obj, name, decorator(method))\n",
    "            return obj\n",
    "        else:\n",
    "            # Decorate standalone functions\n",
    "            return decorator(obj)\n",
    "    return decorate\n",
    "\n",
    "\n",
    "%load_ext autoreload\n",
    "%autoreload 2"
   ]
  },
  {
   "cell_type": "code",
   "execution_count": 6,
   "metadata": {},
   "outputs": [
    {
     "name": "stdout",
     "output_type": "stream",
     "text": [
      "base_directory: /Users/wattjer/Desktop/quick_batch\n",
      "processor_path: /Users/wattjer/Desktop/quick_batch/quick_batch/processor_app\n",
      "controller_path: /Users/wattjer/Desktop/quick_batch/quick_batch/controller_app\n",
      "queue_path: /Users/wattjer/Desktop/quick_batch/quick_batch/queue_app\n",
      "config_path: /Users/wattjer/Desktop/quick_batch/tests/test_configs/test_quick_batch.yaml\n",
      "input_path: /Users/wattjer/Desktop/quick_batch/tests/test_data/input_data\n",
      "output_path: /Users/wattjer/Desktop/quick_batch/tests/test_data/output_data\n"
     ]
    }
   ],
   "source": [
    "import os \n",
    "import sys \n",
    "import docker\n",
    "\n",
    "\n",
    "# path to this file's directory and parent directory\n",
    "current_directory = os.getcwd()\n",
    "base_directory = os.path.dirname(current_directory)\n",
    "\n",
    "# parent directory of base_directory\n",
    "parent_directory = os.path.dirname(base_directory)\n",
    "\n",
    "# add to path\n",
    "sys.path.append(base_directory)\n",
    "\n",
    "# define paths to each app dockerfile location \n",
    "processor_path = os.path.join(base_directory, 'quick_batch', 'processor_app')\n",
    "controller_path = os.path.join(base_directory, 'quick_batch', 'controller_app')\n",
    "queue_path = os.path.join(base_directory, 'quick_batch', 'queue_app')\n",
    "config_path = os.path.join(base_directory, 'tests/test_configs', 'test_quick_batch.yaml')\n",
    "input_path = os.path.join(base_directory, 'tests/test_data', 'input_data')\n",
    "output_path = os.path.join(base_directory, 'tests/test_data', 'output_data')\n",
    "\n",
    "print(f'base_directory: {base_directory}')\n",
    "print(f'processor_path: {processor_path}')\n",
    "print(f'controller_path: {controller_path}')\n",
    "print(f'queue_path: {queue_path}')\n",
    "print(f'config_path: {config_path}')\n",
    "print(f'input_path: {input_path}')\n",
    "print(f'output_path: {output_path}')\n",
    "\n"
   ]
  },
  {
   "attachments": {},
   "cell_type": "markdown",
   "metadata": {},
   "source": [
    "# services and swarm"
   ]
  },
  {
   "cell_type": "code",
   "execution_count": 131,
   "metadata": {},
   "outputs": [],
   "source": [
    "@log_exceptions\n",
    "def create_client():\n",
    "    return docker.from_env()\n",
    "\n",
    "@log_exceptions\n",
    "def create_network(client):\n",
    "    if 'quick_batch_network' not in [network.name for network in client.networks.list()]:\n",
    "        client.networks.create('quick_batch_network', driver='overlay')\n",
    "\n",
    "@log_exceptions\n",
    "def leave_swarm(client):\n",
    "    client.swarm.leave(force=True)\n",
    "        \n",
    "@log_exceptions\n",
    "def create_swarm(client):\n",
    "    client.swarm.init()\n",
    "\n",
    "@log_exceptions\n",
    "def remove_service(client, service_name):\n",
    "    if service_name in [service.name for service in client.services.list()]:\n",
    "        client.services.get(service_name).remove()\n",
    "        \n",
    "        \n",
    "# remove all docker services \n",
    "@log_exceptions\n",
    "def remove_all_services(client):\n",
    "    for service in client.services.list():\n",
    "        service.remove()\n",
    " \n",
    "\n",
    "@log_exceptions\n",
    "def create_queue_service(client):\n",
    "    # remove queue_app service if it exists\n",
    "    remove_service(client, 'queue_app')\n",
    "    \n",
    "    # Define the mounts for the service containers\n",
    "    mounts = [\n",
    "        docker.types.Mount(\n",
    "            type='bind',\n",
    "            source=queue_path + '/queue_app',\n",
    "            target='/queue_app',\n",
    "            read_only=True\n",
    "        ),\n",
    "        docker.types.Mount(\n",
    "            type='bind',\n",
    "            source=config_path,\n",
    "            target='/my_configs/config.yaml',\n",
    "            read_only=True\n",
    "        ),\n",
    "        docker.types.Mount(\n",
    "            type='bind',\n",
    "            source=input_path,\n",
    "            target='/my_data/input',\n",
    "            read_only=True\n",
    "        ),\n",
    "    ]\n",
    "    \n",
    "    # Define the service configuration\n",
    "    service_config = {\n",
    "        'image': 'quick_batch_queue_app',\n",
    "        'name': 'queue_app',\n",
    "        'maxreplicas': 1,\n",
    "        'log_driver': 'json-file',\n",
    "        'log_driver_options': {'max-size': '10m', 'max-file': '3'},\n",
    "        'restart_policy': {'Condition': 'none', 'MaxAttempts': 0},\n",
    "        'mounts': mounts,\n",
    "        'networks':['quick_batch_network'],\n",
    "        'command': ['python', '/queue_app/run.py']\n",
    "    }\n",
    "\n",
    "    # Create the service\n",
    "    service = client.services.create(**service_config)\n",
    "    return service\n",
    "\n",
    "\n",
    "@log_exceptions\n",
    "def create_processor_service(client):\n",
    "    remove_service(client, 'processor_app')\n",
    "\n",
    "    # Define the mounts for the service containers\n",
    "    mounts = [\n",
    "        docker.types.Mount(\n",
    "            type='bind',\n",
    "            source=processor_path + '/processor_app',\n",
    "            target='/processor_app',\n",
    "            read_only=True\n",
    "        ),\n",
    "        docker.types.Mount(\n",
    "            type='bind',\n",
    "            source='/Users/wattjer/Desktop/quick_batch/processor.py',\n",
    "            target='/custom_processor/processor.py',\n",
    "            read_only=False\n",
    "        ),    \n",
    "        docker.types.Mount(\n",
    "            type='bind',\n",
    "            source=config_path,\n",
    "            target='/my_configs/config.yaml',\n",
    "            read_only=True\n",
    "        ),\n",
    "        docker.types.Mount( \n",
    "            type='bind',\n",
    "            source=input_path,\n",
    "            target='/my_data/input',\n",
    "            read_only=True\n",
    "        ),\n",
    "        docker.types.Mount(\n",
    "            type='bind',\n",
    "            source=output_path,\n",
    "            target='/my_data/output',\n",
    "            read_only=False\n",
    "        ),\n",
    "    ]\n",
    "\n",
    "    # Define the service configuration\n",
    "    service_config = {\n",
    "        'image': 'quick_batch_processor_app',\n",
    "        'name': 'processor_app',\n",
    "        'log_driver': 'json-file',\n",
    "        'log_driver_options': {'max-size': '10m', 'max-file': '3'},\n",
    "        'restart_policy': {'Condition': 'none', 'MaxAttempts': 0},\n",
    "        'mounts': mounts,\n",
    "        'networks':['quick_batch_network'],\n",
    "        'command': ['python', '/processor_app/run.py']\n",
    "        # 'command': ['tail', '-f', '/dev/null'],\n",
    "    }\n",
    "\n",
    "    service = client.services.create(**service_config)\n",
    "    return service\n",
    "\n",
    "\n",
    "def get_current_queue_lengths(client):\n",
    "    # Get the list of running containers for the service\n",
    "    queue_app_container = client.containers.list(filters={'label': 'com.docker.swarm.service.name=queue_app'})\n",
    "\n",
    "    # Assuming there is only one container for the service\n",
    "    if queue_app_container:\n",
    "        queue_app_container = queue_app_container[0]\n",
    "        # container_id = queue_app_container.id\n",
    "        # container_name = queue_app_container.name\n",
    "        # print(f\"Container ID: {container_id}\")\n",
    "        # print(f\"Container Name: {container_name}\")\n",
    "    else:\n",
    "        print(\"No running containers found for the service.\")\n",
    "        \n",
    "    command = 'curl -s localhost:80'\n",
    "    response = queue_app_container.exec_run(command)\n",
    "    print(response.output.decode('utf-8'))"
   ]
  },
  {
   "cell_type": "code",
   "execution_count": 126,
   "metadata": {},
   "outputs": [
    {
     "name": "stdout",
     "output_type": "stream",
     "text": [
      "SUCCESS: remove_all_services succeeded\n"
     ]
    }
   ],
   "source": [
    "# creater docker client\n",
    "client = docker.from_env()\n",
    "\n",
    "# remove all services \n",
    "remove_all_services(client)"
   ]
  },
  {
   "cell_type": "code",
   "execution_count": 121,
   "metadata": {},
   "outputs": [
    {
     "data": {
      "text/plain": [
       "[]"
      ]
     },
     "execution_count": 121,
     "metadata": {},
     "output_type": "execute_result"
    }
   ],
   "source": [
    "client.services.list()"
   ]
  },
  {
   "cell_type": "code",
   "execution_count": 127,
   "metadata": {},
   "outputs": [
    {
     "name": "stdout",
     "output_type": "stream",
     "text": [
      "SUCCESS: remove_all_services succeeded\n",
      "SUCCESS: leave_swarm succeeded\n",
      "SUCCESS: create_swarm succeeded\n",
      "SUCCESS: create_network succeeded\n",
      "SUCCESS: remove_all_services succeeded\n",
      "SUCCESS: remove_service succeeded\n",
      "SUCCESS: create_queue_service succeeded\n",
      "SUCCESS: remove_service succeeded\n",
      "SUCCESS: create_processor_service succeeded\n"
     ]
    },
    {
     "data": {
      "text/plain": [
       "{'Warnings': None}"
      ]
     },
     "execution_count": 127,
     "metadata": {},
     "output_type": "execute_result"
    }
   ],
   "source": [
    "import time \n",
    "\n",
    "# creater docker client\n",
    "client = docker.from_env()\n",
    "\n",
    "# remove all services \n",
    "remove_all_services(client)\n",
    "\n",
    "# remove swarms \n",
    "leave_swarm(client)\n",
    "\n",
    "# create new swarm\n",
    "create_swarm(client)\n",
    "\n",
    "# create network\n",
    "create_network(client)\n",
    "time.sleep(5)\n",
    "\n",
    "# remove all services\n",
    "remove_all_services(client)\n",
    "\n",
    "# create queue service\n",
    "queue_service = create_queue_service(client)\n",
    "\n",
    "# create processor service\n",
    "processor_service = create_processor_service(client)\n",
    "processor_service.scale(2)"
   ]
  },
  {
   "cell_type": "code",
   "execution_count": 140,
   "metadata": {},
   "outputs": [
    {
     "name": "stdout",
     "output_type": "stream",
     "text": [
      "{\"done_queue_length\":6,\"feed_queue_length\":4,\"original_feed_queue_length\":10,\"wip_queue_length\":2}\n",
      "\n"
     ]
    }
   ],
   "source": [
    "get_current_queue_lengths(client)"
   ]
  },
  {
   "cell_type": "code",
   "execution_count": 101,
   "metadata": {},
   "outputs": [
    {
     "data": {
      "text/plain": [
       "<Service: 4azbjsj8y3y2>"
      ]
     },
     "execution_count": 101,
     "metadata": {},
     "output_type": "execute_result"
    }
   ],
   "source": [
    "client.services.get('queue_app')"
   ]
  },
  {
   "cell_type": "code",
   "execution_count": 113,
   "metadata": {},
   "outputs": [
    {
     "name": "stdout",
     "output_type": "stream",
     "text": [
      "Container ID: 660e3ff475064fe05922b9510a4f40be1ae55684066bbc050078366eafbffa5d\n",
      "Container Name: queue_app.1.suxiiy39b75i8xxmufyb2t6qz\n",
      "Hello, World!\n",
      "\n"
     ]
    }
   ],
   "source": []
  },
  {
   "cell_type": "code",
   "execution_count": 114,
   "metadata": {},
   "outputs": [
    {
     "name": "stdout",
     "output_type": "stream",
     "text": [
      "Reading package lists...\n",
      "Building dependency tree...\n",
      "Reading state information...\n",
      "The following additional packages will be installed:\n",
      "  libbrotli1 libcurl4 libldap-2.4-2 libldap-common libnghttp2-14 libpsl5\n",
      "  librtmp1 libsasl2-2 libsasl2-modules libsasl2-modules-db libssh2-1\n",
      "  publicsuffix\n",
      "Suggested packages:\n",
      "  libsasl2-modules-gssapi-mit | libsasl2-modules-gssapi-heimdal\n",
      "  libsasl2-modules-ldap libsasl2-modules-otp libsasl2-modules-sql\n",
      "The following NEW packages will be installed:\n",
      "  curl libbrotli1 libcurl4 libldap-2.4-2 libldap-common libnghttp2-14 libpsl5\n",
      "  librtmp1 libsasl2-2 libsasl2-modules libsasl2-modules-db libssh2-1\n",
      "  publicsuffix\n",
      "0 upgraded, 13 newly installed, 0 to remove and 0 not upgraded.\n",
      "Need to get 1918 kB of archives.\n",
      "After this operation, 4231 kB of additional disk space will be used.\n",
      "Get:1 http://deb.debian.org/debian bullseye/main arm64 libbrotli1 arm64 1.0.9-2+b2 [267 kB]\n",
      "Get:2 http://deb.debian.org/debian bullseye/main arm64 libsasl2-modules-db arm64 2.1.27+dfsg-2.1+deb11u1 [69.4 kB]\n",
      "Get:3 http://deb.debian.org/debian bullseye/main arm64 libsasl2-2 arm64 2.1.27+dfsg-2.1+deb11u1 [105 kB]\n",
      "Get:4 http://deb.debian.org/debian bullseye/main arm64 libldap-2.4-2 arm64 2.4.57+dfsg-3+deb11u1 [222 kB]\n",
      "Get:5 http://deb.debian.org/debian bullseye/main arm64 libnghttp2-14 arm64 1.43.0-1 [73.8 kB]\n",
      "Get:6 http://deb.debian.org/debian bullseye/main arm64 libpsl5 arm64 0.21.0-1.2 [57.1 kB]\n",
      "Get:7 http://deb.debian.org/debian bullseye/main arm64 librtmp1 arm64 2.4+20151223.gitfa8646d.1-2+b2 [59.4 kB]\n",
      "Get:8 http://deb.debian.org/debian bullseye/main arm64 libssh2-1 arm64 1.9.0-2 [150 kB]\n",
      "Get:9 http://deb.debian.org/debian bullseye/main arm64 libcurl4 arm64 7.74.0-1.3+deb11u7 [325 kB]\n",
      "Get:10 http://deb.debian.org/debian bullseye/main arm64 curl arm64 7.74.0-1.3+deb11u7 [265 kB]\n",
      "Get:11 http://deb.debian.org/debian bullseye/main arm64 libldap-common all 2.4.57+dfsg-3+deb11u1 [95.8 kB]\n",
      "Get:12 http://deb.debian.org/debian bullseye/main arm64 libsasl2-modules arm64 2.1.27+dfsg-2.1+deb11u1 [101 kB]\n",
      "Get:13 http://deb.debian.org/debian bullseye/main arm64 publicsuffix all 20220811.1734-0+deb11u1 [127 kB]\n",
      "debconf: delaying package configuration, since apt-utils is not installed\n",
      "Fetched 1918 kB in 1s (1731 kB/s)\n",
      "Selecting previously unselected package libbrotli1:arm64.\n",
      "(Reading database ... 7259 files and directories currently installed.)\n",
      "Preparing to unpack .../00-libbrotli1_1.0.9-2+b2_arm64.deb ...\n",
      "Unpacking libbrotli1:arm64 (1.0.9-2+b2) ...\n",
      "Selecting previously unselected package libsasl2-modules-db:arm64.\n",
      "Preparing to unpack .../01-libsasl2-modules-db_2.1.27+dfsg-2.1+deb11u1_arm64.deb ...\n",
      "Unpacking libsasl2-modules-db:arm64 (2.1.27+dfsg-2.1+deb11u1) ...\n",
      "Selecting previously unselected package libsasl2-2:arm64.\n",
      "Preparing to unpack .../02-libsasl2-2_2.1.27+dfsg-2.1+deb11u1_arm64.deb ...\n",
      "Unpacking libsasl2-2:arm64 (2.1.27+dfsg-2.1+deb11u1) ...\n",
      "Selecting previously unselected package libldap-2.4-2:arm64.\n",
      "Preparing to unpack .../03-libldap-2.4-2_2.4.57+dfsg-3+deb11u1_arm64.deb ...\n",
      "Unpacking libldap-2.4-2:arm64 (2.4.57+dfsg-3+deb11u1) ...\n",
      "Selecting previously unselected package libnghttp2-14:arm64.\n",
      "Preparing to unpack .../04-libnghttp2-14_1.43.0-1_arm64.deb ...\n",
      "Unpacking libnghttp2-14:arm64 (1.43.0-1) ...\n",
      "Selecting previously unselected package libpsl5:arm64.\n",
      "Preparing to unpack .../05-libpsl5_0.21.0-1.2_arm64.deb ...\n",
      "Unpacking libpsl5:arm64 (0.21.0-1.2) ...\n",
      "Selecting previously unselected package librtmp1:arm64.\n",
      "Preparing to unpack .../06-librtmp1_2.4+20151223.gitfa8646d.1-2+b2_arm64.deb ...\n",
      "Unpacking librtmp1:arm64 (2.4+20151223.gitfa8646d.1-2+b2) ...\n",
      "Selecting previously unselected package libssh2-1:arm64.\n",
      "Preparing to unpack .../07-libssh2-1_1.9.0-2_arm64.deb ...\n",
      "Unpacking libssh2-1:arm64 (1.9.0-2) ...\n",
      "Selecting previously unselected package libcurl4:arm64.\n",
      "Preparing to unpack .../08-libcurl4_7.74.0-1.3+deb11u7_arm64.deb ...\n",
      "Unpacking libcurl4:arm64 (7.74.0-1.3+deb11u7) ...\n",
      "Selecting previously unselected package curl.\n",
      "Preparing to unpack .../09-curl_7.74.0-1.3+deb11u7_arm64.deb ...\n",
      "Unpacking curl (7.74.0-1.3+deb11u7) ...\n",
      "Selecting previously unselected package libldap-common.\n",
      "Preparing to unpack .../10-libldap-common_2.4.57+dfsg-3+deb11u1_all.deb ...\n",
      "Unpacking libldap-common (2.4.57+dfsg-3+deb11u1) ...\n",
      "Selecting previously unselected package libsasl2-modules:arm64.\n",
      "Preparing to unpack .../11-libsasl2-modules_2.1.27+dfsg-2.1+deb11u1_arm64.deb ...\n",
      "Unpacking libsasl2-modules:arm64 (2.1.27+dfsg-2.1+deb11u1) ...\n",
      "Selecting previously unselected package publicsuffix.\n",
      "Preparing to unpack .../12-publicsuffix_20220811.1734-0+deb11u1_all.deb ...\n",
      "Unpacking publicsuffix (20220811.1734-0+deb11u1) ...\n",
      "Setting up libpsl5:arm64 (0.21.0-1.2) ...\n",
      "Setting up libbrotli1:arm64 (1.0.9-2+b2) ...\n",
      "Setting up libsasl2-modules:arm64 (2.1.27+dfsg-2.1+deb11u1) ...\n",
      "Setting up libnghttp2-14:arm64 (1.43.0-1) ...\n",
      "Setting up libldap-common (2.4.57+dfsg-3+deb11u1) ...\n",
      "Setting up libsasl2-modules-db:arm64 (2.1.27+dfsg-2.1+deb11u1) ...\n",
      "Setting up librtmp1:arm64 (2.4+20151223.gitfa8646d.1-2+b2) ...\n",
      "Setting up libsasl2-2:arm64 (2.1.27+dfsg-2.1+deb11u1) ...\n",
      "Setting up libssh2-1:arm64 (1.9.0-2) ...\n",
      "Setting up publicsuffix (20220811.1734-0+deb11u1) ...\n",
      "Setting up libldap-2.4-2:arm64 (2.4.57+dfsg-3+deb11u1) ...\n",
      "Setting up libcurl4:arm64 (7.74.0-1.3+deb11u7) ...\n",
      "Setting up curl (7.74.0-1.3+deb11u7) ...\n",
      "Processing triggers for libc-bin (2.31-13+deb11u6) ...\n",
      "\n"
     ]
    }
   ],
   "source": [
    "command = 'apt-get install -y curl'\n",
    "response = container.exec_run(command)\n",
    "print(response.output.decode('utf-8'))"
   ]
  },
  {
   "cell_type": "code",
   "execution_count": 115,
   "metadata": {},
   "outputs": [
    {
     "name": "stdout",
     "output_type": "stream",
     "text": [
      "{\"done_queue_length\":0,\"feed_queue_length\":10,\"message\":\"current queue lengths\",\"original_feed_queue_length\":10,\"wip_queue_length\":0}\n",
      "\n"
     ]
    }
   ],
   "source": [
    "command = 'curl -s localhost:80'\n",
    "response = container.exec_run(command)\n",
    "print(response.output.decode('utf-8'))"
   ]
  },
  {
   "cell_type": "code",
   "execution_count": 103,
   "metadata": {},
   "outputs": [
    {
     "data": {
      "text/plain": [
       "[<Container: 302db953797f>]"
      ]
     },
     "execution_count": 103,
     "metadata": {},
     "output_type": "execute_result"
    }
   ],
   "source": [
    "containers"
   ]
  },
  {
   "cell_type": "code",
   "execution_count": null,
   "metadata": {},
   "outputs": [],
   "source": []
  },
  {
   "cell_type": "code",
   "execution_count": 38,
   "metadata": {},
   "outputs": [
    {
     "name": "stdout",
     "output_type": "stream",
     "text": [
      "processor_app\n",
      "queue_app\n"
     ]
    }
   ],
   "source": [
    "# list all currently running docker services \n",
    "for service in client.services.list():\n",
    "    print(service.name)"
   ]
  },
  {
   "cell_type": "code",
   "execution_count": 62,
   "metadata": {},
   "outputs": [
    {
     "name": "stdout",
     "output_type": "stream",
     "text": [
      "first\n",
      "second\n"
     ]
    }
   ],
   "source": [
    "from collections import deque\n",
    "\n",
    "# Create an empty queue\n",
    "queue = deque()\n",
    "\n",
    "# Enqueue elements\n",
    "queue.append('first')\n",
    "queue.append('second')\n",
    "queue.append('third')\n",
    "\n",
    "# Dequeue elements\n",
    "first_item = queue.popleft()\n",
    "second_item = queue.popleft()\n",
    "\n",
    "print(first_item)  # Output: 1\n",
    "print(second_item)  # Output: 2"
   ]
  },
  {
   "cell_type": "code",
   "execution_count": 64,
   "metadata": {},
   "outputs": [
    {
     "ename": "AttributeError",
     "evalue": "'collections.deque' object has no attribute 'empty'",
     "output_type": "error",
     "traceback": [
      "\u001b[0;31m---------------------------------------------------------------------------\u001b[0m",
      "\u001b[0;31mAttributeError\u001b[0m                            Traceback (most recent call last)",
      "Cell \u001b[0;32mIn[64], line 1\u001b[0m\n\u001b[0;32m----> 1\u001b[0m queue\u001b[39m.\u001b[39;49mempty()\n",
      "\u001b[0;31mAttributeError\u001b[0m: 'collections.deque' object has no attribute 'empty'"
     ]
    }
   ],
   "source": [
    "queue.empty()"
   ]
  },
  {
   "cell_type": "code",
   "execution_count": null,
   "metadata": {},
   "outputs": [],
   "source": []
  }
 ],
 "metadata": {
  "kernelspec": {
   "display_name": ".venv",
   "language": "python",
   "name": "python3"
  },
  "language_info": {
   "codemirror_mode": {
    "name": "ipython",
    "version": 3
   },
   "file_extension": ".py",
   "mimetype": "text/x-python",
   "name": "python",
   "nbconvert_exporter": "python",
   "pygments_lexer": "ipython3",
   "version": "3.9.1"
  },
  "orig_nbformat": 4
 },
 "nbformat": 4,
 "nbformat_minor": 2
}
