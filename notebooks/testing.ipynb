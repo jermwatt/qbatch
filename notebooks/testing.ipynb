{
 "cells": [
  {
   "cell_type": "code",
   "execution_count": 1,
   "metadata": {},
   "outputs": [
    {
     "name": "stdout",
     "output_type": "stream",
     "text": [
      "/Users/wattjer/Desktop/quick_batch/notebooks\n",
      "/Users/wattjer/Desktop/quick_batch\n",
      "/Users/wattjer/Desktop/quick_batch/quick_batch/processor_app\n",
      "/Users/wattjer/Desktop/quick_batch/quick_batch/controller_app\n",
      "/Users/wattjer/Desktop/quick_batch/quick_batch/queue_app\n"
     ]
    }
   ],
   "source": [
    "\n",
    "\n",
    "print(current_directory)\n",
    "print(parent_directory)\n",
    "print(processor_path)\n",
    "print(controller_path)\n",
    "print(queue_path)\n",
    "\n",
    "%load_ext autoreload\n",
    "%autoreload 2"
   ]
  },
  {
   "cell_type": "code",
   "execution_count": 2,
   "metadata": {},
   "outputs": [],
   "source": []
  },
  {
   "cell_type": "code",
   "execution_count": 31,
   "metadata": {},
   "outputs": [],
   "source": [
    "import shutil\n",
    "import os\n",
    "import sys\n",
    "import docker \n",
    "\n",
    "\n",
    "# path to this file's directory and parent directory\n",
    "current_directory = os.getcwd()\n",
    "parent_directory = os.path.dirname(current_directory)\n",
    "\n",
    "# add to path\n",
    "sys.path.append(parent_directory)\n",
    "\n",
    "# define paths to each app dockerfile location \n",
    "processor_path = os.path.join(parent_directory, 'quick_batch', 'processor_app')\n",
    "controller_path = os.path.join(parent_directory, 'quick_batch', 'controller_app')\n",
    "queue_path = os.path.join(parent_directory, 'quick_batch', 'queue_app')\n",
    "\n",
    "\n",
    "# create client for docker\n",
    "def create_client():\n",
    "    return docker.from_env()\n",
    "\n",
    "# remove all docker containers\n",
    "def remove_all_containers(client):\n",
    "    for container in client.containers.list(all=True):\n",
    "        container.remove(force=True)\n",
    "\n",
    "# build processor_app docker image\n",
    "def build_processor_image(client, processor_path):\n",
    "    # copy processor requirements.txt to processor_app directory to roll into dockerfile\n",
    "    shutil.copyfile(os.path.join(parent_directory, 'processor_requirements.txt'), os.path.join(processor_path, 'processor_requirements.txt'));\n",
    "\n",
    "    # create docker image for processor app - including user defined requirements\n",
    "    client.images.build(path=processor_path, tag='processor_app', quiet=False)\n",
    "\n",
    "    # remove processor_requirements.txt from the processor_path directory \n",
    "    os.remove(os.path.join(processor_path, 'processor_requirements.txt'))"
   ]
  },
  {
   "cell_type": "code",
   "execution_count": 32,
   "metadata": {},
   "outputs": [],
   "source": [
    "client = create_client()\n",
    "build_processor_image(client, processor_path)\n",
    "\n",
    "# remove_all_containers(client)"
   ]
  },
  {
   "cell_type": "code",
   "execution_count": 33,
   "metadata": {},
   "outputs": [],
   "source": [
    "# start processor_app docker container with interactive terminal\n",
    "processor_app_test = client.containers.run('processor_app', \n",
    "                                           detach=True, \n",
    "                                           name='processor_app', \n",
    "                                           tty=True, \n",
    "                                           stdin_open=True, \n",
    "                                           ports={'5000/tcp': 5000},\n",
    "                                           volumes={processor_path + '/processor_app': \n",
    "                                               {'bind': '/processor_app', 'mode': 'rw'}});"
   ]
  },
  {
   "cell_type": "code",
   "execution_count": 36,
   "metadata": {},
   "outputs": [
    {
     "data": {
      "text/plain": [
       "'processor_app'"
      ]
     },
     "execution_count": 36,
     "metadata": {},
     "output_type": "execute_result"
    }
   ],
   "source": [
    "# start process\n",
    "processor_app_test"
   ]
  },
  {
   "cell_type": "code",
   "execution_count": null,
   "metadata": {},
   "outputs": [],
   "source": [
    "# execute hello_world.py in processor_app docker container\n",
    "processor_app_test.exec_run('python3 -m processor_app.hello_world')"
   ]
  },
  {
   "cell_type": "code",
   "execution_count": 32,
   "metadata": {},
   "outputs": [
    {
     "ename": "TypeError",
     "evalue": "list() got an unexpected keyword argument 'status'",
     "output_type": "error",
     "traceback": [
      "\u001b[0;31m---------------------------------------------------------------------------\u001b[0m",
      "\u001b[0;31mTypeError\u001b[0m                                 Traceback (most recent call last)",
      "Cell \u001b[0;32mIn[32], line 2\u001b[0m\n\u001b[1;32m      1\u001b[0m \u001b[39m# list running docker containers by name\u001b[39;00m\n\u001b[0;32m----> 2\u001b[0m client\u001b[39m.\u001b[39;49mcontainers\u001b[39m.\u001b[39;49mlist(\u001b[39mall\u001b[39;49m\u001b[39m=\u001b[39;49m\u001b[39mTrue\u001b[39;49;00m, filters\u001b[39m=\u001b[39;49m{\u001b[39m'\u001b[39;49m\u001b[39mname\u001b[39;49m\u001b[39m'\u001b[39;49m: \u001b[39m'\u001b[39;49m\u001b[39mprocessor_app\u001b[39;49m\u001b[39m'\u001b[39;49m}, status\u001b[39m=\u001b[39;49m\u001b[39m'\u001b[39;49m\u001b[39mrunning\u001b[39;49m\u001b[39m'\u001b[39;49m)\n",
      "\u001b[0;31mTypeError\u001b[0m: list() got an unexpected keyword argument 'status'"
     ]
    }
   ],
   "source": [
    "# list running docker containers by name\n",
    "client.containers.list(all=True, filters={'name': 'processor_app'},)\n"
   ]
  },
  {
   "cell_type": "code",
   "execution_count": 27,
   "metadata": {},
   "outputs": [],
   "source": []
  },
  {
   "cell_type": "code",
   "execution_count": 28,
   "metadata": {},
   "outputs": [],
   "source": [
    "# list current docker images \n",
    "client.images.list()"
   ]
  },
  {
   "cell_type": "code",
   "execution_count": null,
   "metadata": {},
   "outputs": [],
   "source": [
    "a"
   ]
  },
  {
   "cell_type": "code",
   "execution_count": null,
   "metadata": {},
   "outputs": [],
   "source": []
  }
 ],
 "metadata": {
  "kernelspec": {
   "display_name": ".venv",
   "language": "python",
   "name": "python3"
  },
  "language_info": {
   "codemirror_mode": {
    "name": "ipython",
    "version": 3
   },
   "file_extension": ".py",
   "mimetype": "text/x-python",
   "name": "python",
   "nbconvert_exporter": "python",
   "pygments_lexer": "ipython3",
   "version": "3.9.1"
  },
  "orig_nbformat": 4
 },
 "nbformat": 4,
 "nbformat_minor": 2
}
