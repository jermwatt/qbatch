{
 "cells": [
  {
   "cell_type": "code",
   "execution_count": 6,
   "metadata": {},
   "outputs": [
    {
     "name": "stdout",
     "output_type": "stream",
     "text": [
      "/Users/wattjer/Desktop/quick_batch/notebooks\n",
      "/Users/wattjer/Desktop/quick_batch\n",
      "/Users/wattjer/Desktop/quick_batch/quick_batch/processor_app\n",
      "/Users/wattjer/Desktop/quick_batch/quick_batch/controller_app\n",
      "/Users/wattjer/Desktop/quick_batch/quick_batch/queue_app\n",
      "The autoreload extension is already loaded. To reload it, use:\n",
      "  %reload_ext autoreload\n"
     ]
    }
   ],
   "source": [
    "import docker \n",
    "\n",
    "# path to this file's directory and parent directory\n",
    "import os\n",
    "current_directory = os.getcwd()\n",
    "parent_directory = os.path.dirname(current_directory)\n",
    "\n",
    "# add to path\n",
    "import sys\n",
    "sys.path.append(parent_directory)\n",
    "\n",
    "# define paths to each app dockerfile location \n",
    "processor_path = os.path.join(parent_directory, 'quick_batch', 'processor_app')\n",
    "controller_path = os.path.join(parent_directory, 'quick_batch', 'controller_app')\n",
    "queue_path = os.path.join(parent_directory, 'quick_batch', 'queue_app')\n",
    "\n",
    "print(current_directory)\n",
    "print(parent_directory)\n",
    "print(processor_path)\n",
    "print(controller_path)\n",
    "print(queue_path)\n",
    "\n",
    "%load_ext autoreload\n",
    "%autoreload 2"
   ]
  },
  {
   "cell_type": "code",
   "execution_count": 7,
   "metadata": {},
   "outputs": [],
   "source": [
    "# create client for docker\n",
    "client = docker.from_env()"
   ]
  },
  {
   "cell_type": "code",
   "execution_count": 19,
   "metadata": {},
   "outputs": [],
   "source": [
    "import shutil\n",
    "import os\n",
    "\n",
    "# copy processor requirements.txt to processor_app directory to roll into dockerfile\n",
    "shutil.copyfile(os.path.join(parent_directory, 'processor_requirements.txt'), os.path.join(processor_path, 'processor_requirements.txt'));\n",
    "\n",
    "# create docker image for processor app - including user defined requirements\n",
    "client.images.build(path=processor_path, tag='processor_app', quiet=False)\n",
    "\n",
    "# remove processor_requirements.txt from the processor_path directory \n",
    "os.remove(os.path.join(processor_path, 'processor_requirements.txt'))"
   ]
  },
  {
   "cell_type": "code",
   "execution_count": 25,
   "metadata": {},
   "outputs": [
    {
     "data": {
      "text/plain": [
       "<Container: 008730b8c1c8>"
      ]
     },
     "execution_count": 25,
     "metadata": {},
     "output_type": "execute_result"
    }
   ],
   "source": [
    "# start processor_app docker container with interactive terminal\n",
    "client.containers.run('processor_app', detach=True, name='processor_app', tty=True, stdin_open=True, ports={'5000/tcp': 5000});"
   ]
  },
  {
   "cell_type": "code",
   "execution_count": 26,
   "metadata": {},
   "outputs": [
    {
     "data": {
      "text/plain": [
       "[<Container: 008730b8c1c8>]"
      ]
     },
     "execution_count": 26,
     "metadata": {},
     "output_type": "execute_result"
    }
   ],
   "source": [
    "# list running docker containers by name\n",
    "client.containers.list()\n"
   ]
  },
  {
   "cell_type": "code",
   "execution_count": 10,
   "metadata": {},
   "outputs": [
    {
     "data": {
      "text/plain": [
       "[<Image: 'processor:latest'>,\n",
       " <Image: 'controller_app:latest'>,\n",
       " <Image: 'processor_app:latest'>,\n",
       " <Image: 'queue_app:latest'>,\n",
       " <Image: ''>,\n",
       " <Image: 'ghcr.io/esphome/esphome:latest'>,\n",
       " <Image: 'ubuntu:20.04'>,\n",
       " <Image: 'public.ecr.aws/supabase/logflare:1.0.2'>,\n",
       " <Image: 'public.ecr.aws/supabase/storage-api:v0.34.0'>,\n",
       " <Image: 'public.ecr.aws/supabase/studio:20230330-99fed3d'>,\n",
       " <Image: 'public.ecr.aws/supabase/realtime:v2.10.1'>,\n",
       " <Image: 'gpt4all_server:latest'>,\n",
       " <Image: 'gpt4all_fastapi:latest'>,\n",
       " <Image: ''>,\n",
       " <Image: ''>,\n",
       " <Image: 'tiangolo/uvicorn-gunicorn-fastapi:python3.10'>,\n",
       " <Image: 'tiangolo/uvicorn-gunicorn-fastapi:latest'>,\n",
       " <Image: 'public.ecr.aws/supabase/edge-runtime:v1.1.7'>,\n",
       " <Image: 'public.ecr.aws/supabase/postgres:15.1.0.54-rc0'>,\n",
       " <Image: 'public.ecr.aws/supabase/vector:0.28.1-alpine'>,\n",
       " <Image: 'public.ecr.aws/supabase/gotrue:v2.51.4'>,\n",
       " <Image: 'public.ecr.aws/supabase/postgrest:v10.1.2'>,\n",
       " <Image: 'public.ecr.aws/supabase/postgres-meta:v0.60.7'>,\n",
       " <Image: 'public.ecr.aws/supabase/kong:2.8.1'>,\n",
       " <Image: 'public.ecr.aws/supabase/imgproxy:v3.8.0'>,\n",
       " <Image: 'public.ecr.aws/supabase/pgadmin-schema-diff:cli-0.0.5'>,\n",
       " <Image: 'public.ecr.aws/supabase/inbucket:3.0.3'>,\n",
       " <Image: 'public.ecr.aws/supabase/migra:3.0.1621480950'>]"
      ]
     },
     "execution_count": 10,
     "metadata": {},
     "output_type": "execute_result"
    }
   ],
   "source": [
    "# list current docker images \n",
    "client.images.list()"
   ]
  },
  {
   "cell_type": "code",
   "execution_count": null,
   "metadata": {},
   "outputs": [],
   "source": [
    "a"
   ]
  },
  {
   "cell_type": "code",
   "execution_count": null,
   "metadata": {},
   "outputs": [],
   "source": []
  }
 ],
 "metadata": {
  "kernelspec": {
   "display_name": ".venv",
   "language": "python",
   "name": "python3"
  },
  "language_info": {
   "codemirror_mode": {
    "name": "ipython",
    "version": 3
   },
   "file_extension": ".py",
   "mimetype": "text/x-python",
   "name": "python",
   "nbconvert_exporter": "python",
   "pygments_lexer": "ipython3",
   "version": "3.9.1"
  },
  "orig_nbformat": 4
 },
 "nbformat": 4,
 "nbformat_minor": 2
}
