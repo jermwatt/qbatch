{
 "cells": [
  {
   "cell_type": "code",
   "execution_count": 4,
   "metadata": {},
   "outputs": [],
   "source": [
    "\n",
    "import functools\n",
    "import traceback\n",
    "\n",
    "\n",
    "def log_exceptions(func):\n",
    "    @functools.wraps(func)\n",
    "    def wrapper(*args, **kwargs):\n",
    "        func_name = func.__name__\n",
    "        try:\n",
    "            result = func(*args, **kwargs)\n",
    "        except Exception as e:\n",
    "            print(f\"FAILURE: {func_name} failed: {e}\")\n",
    "            traceback.print_exc()\n",
    "        else:\n",
    "            print(f\"SUCCESS: {func_name} succeeded\")\n",
    "            return result\n",
    "    return wrapper\n",
    "\n",
    "\n",
    "def decorate_methods(decorator):\n",
    "    def decorate(obj):\n",
    "        if isinstance(obj, type):\n",
    "            # Decorate class methods\n",
    "            for name, method in vars(obj).items():\n",
    "                if callable(method):\n",
    "                    setattr(obj, name, decorator(method))\n",
    "            return obj\n",
    "        else:\n",
    "            # Decorate standalone functions\n",
    "            return decorator(obj)\n",
    "    return decorate\n",
    "\n",
    "\n",
    "%load_ext autoreload\n",
    "%autoreload 2"
   ]
  },
  {
   "cell_type": "code",
   "execution_count": 15,
   "metadata": {},
   "outputs": [
    {
     "name": "stdout",
     "output_type": "stream",
     "text": [
      "base_directory: /Users/wattjer/Desktop/quick_batch\n",
      "processor_path: /Users/wattjer/Desktop/quick_batch/quick_batch/processor_app\n",
      "controller_path: /Users/wattjer/Desktop/quick_batch/quick_batch/controller_app\n",
      "queue_path: /Users/wattjer/Desktop/quick_batch/quick_batch/queue_app\n",
      "config_path: /Users/wattjer/Desktop/quick_batch/tests/test_configs/test_quick_batch.yaml\n",
      "input_path: /Users/wattjer/Desktop/quick_batch/tests/test_data/input_data\n",
      "output_path: /Users/wattjer/Desktop/quick_batch/tests/test_data/output_data\n"
     ]
    }
   ],
   "source": [
    "import os \n",
    "import sys \n",
    "\n",
    "# path to this file's directory and parent directory\n",
    "current_directory = os.getcwd()\n",
    "base_directory = os.path.dirname(current_directory)\n",
    "\n",
    "# parent directory of base_directory\n",
    "parent_directory = os.path.dirname(base_directory)\n",
    "\n",
    "# add to path\n",
    "sys.path.append(base_directory)\n",
    "\n",
    "# define paths to each app dockerfile location \n",
    "processor_path = os.path.join(base_directory, 'quick_batch', 'processor_app')\n",
    "controller_path = os.path.join(base_directory, 'quick_batch', 'controller_app')\n",
    "queue_path = os.path.join(base_directory, 'quick_batch', 'queue_app')\n",
    "config_path = os.path.join(base_directory, 'tests/test_configs', 'test_quick_batch.yaml')\n",
    "input_path = os.path.join(base_directory, 'tests/test_data', 'input_data')\n",
    "output_path = os.path.join(base_directory, 'tests/test_data', 'output_data')\n",
    "\n",
    "print(f'base_directory: {base_directory}')\n",
    "print(f'processor_path: {processor_path}')\n",
    "print(f'controller_path: {controller_path}')\n",
    "print(f'queue_path: {queue_path}')\n",
    "print(f'config_path: {config_path}')\n",
    "print(f'input_path: {input_path}')\n",
    "print(f'output_path: {output_path}')\n",
    "\n"
   ]
  },
  {
   "attachments": {},
   "cell_type": "markdown",
   "metadata": {},
   "source": [
    "# services and swarm"
   ]
  },
  {
   "cell_type": "code",
   "execution_count": 1,
   "metadata": {},
   "outputs": [],
   "source": [
    "import shutil\n",
    "import os\n",
    "import sys\n",
    "import docker "
   ]
  },
  {
   "cell_type": "code",
   "execution_count": 28,
   "metadata": {},
   "outputs": [],
   "source": [
    "@log_exceptions\n",
    "def create_client():\n",
    "    return docker.from_env()\n",
    "\n",
    "@log_exceptions\n",
    "def create_network(client):\n",
    "    if 'quick_batch_network' not in [network.name for network in client.networks.list()]:\n",
    "        client.networks.create('quick_batch_network', driver='overlay')\n",
    "\n",
    "@log_exceptions\n",
    "def leave_swarm(client):\n",
    "    client.swarm.leave(force=True)\n",
    "        \n",
    "@log_exceptions\n",
    "def create_swarm(client):\n",
    "    client.swarm.init()\n",
    "\n",
    "@log_exceptions\n",
    "def remove_service(client, service_name):\n",
    "    if service_name in [service.name for service in client.services.list()]:\n",
    "        client.services.get(service_name).remove()\n",
    "\n",
    "@log_exceptions\n",
    "def create_queue_service(client):\n",
    "    # remove queue_app service if it exists\n",
    "    remove_service(client, 'queue_app')\n",
    "    \n",
    "    # Define the mounts for the service containers\n",
    "    mounts = [\n",
    "        docker.types.Mount(\n",
    "            type='bind',\n",
    "            source=queue_path + '/queue_app',\n",
    "            target='/queue_app',\n",
    "            read_only=True\n",
    "        ),\n",
    "        docker.types.Mount(\n",
    "            type='bind',\n",
    "            source=config_path,\n",
    "            target='/my_configs/config.yaml',\n",
    "            read_only=True\n",
    "        ),\n",
    "        docker.types.Mount(\n",
    "            type='bind',\n",
    "            source=input_path,\n",
    "            target='/my_data/input',\n",
    "            read_only=True\n",
    "        ),\n",
    "    ]\n",
    "\n",
    "    # Define the service configuration\n",
    "    service_config = {\n",
    "        'image': 'quick_batch_queue_app',\n",
    "        'name': 'queue_app',\n",
    "        'mounts': mounts,\n",
    "        'networks':['quick_batch_network'],\n",
    "        'command': ['python /queue_app/run.py']\n",
    "    }\n",
    "\n",
    "    # Create the service\n",
    "    service = client.services.create(**service_config)\n",
    "    return service\n"
   ]
  },
  {
   "cell_type": "code",
   "execution_count": 23,
   "metadata": {},
   "outputs": [
    {
     "name": "stdout",
     "output_type": "stream",
     "text": [
      "SUCCESS: leave_swarm succeeded\n",
      "SUCCESS: create_swarm succeeded\n",
      "SUCCESS: create_network succeeded\n"
     ]
    }
   ],
   "source": [
    "# creater docker client\n",
    "client = docker.from_env()\n",
    "\n",
    "# remove swarms \n",
    "leave_swarm(client)\n",
    "\n",
    "# create new swarm\n",
    "create_swarm(client)\n",
    "\n",
    "# create network\n",
    "create_network(client)\n",
    "\n",
    "# create queue service\n",
    "queue_service = create_queue_service(client)"
   ]
  },
  {
   "cell_type": "code",
   "execution_count": 30,
   "metadata": {},
   "outputs": [
    {
     "name": "stdout",
     "output_type": "stream",
     "text": [
      "SUCCESS: remove_service succeeded\n",
      "SUCCESS: create_queue_service succeeded\n"
     ]
    }
   ],
   "source": [
    "queue_service = create_queue_service(client)"
   ]
  },
  {
   "cell_type": "code",
   "execution_count": null,
   "metadata": {},
   "outputs": [],
   "source": [
    "remove_service(client, 'processor_app')\n",
    "\n",
    "# Define the mounts for the service containers\n",
    "mounts = [\n",
    "    docker.types.Mount(\n",
    "        type='bind',\n",
    "        source=processor_path + '/processor_app',\n",
    "        target='/processor_app',\n",
    "        read_only=True\n",
    "    ),\n",
    "    docker.types.Mount(\n",
    "        type='bind',\n",
    "        source=config_path,\n",
    "        target='/my_configs/config.yaml',\n",
    "        read_only=True\n",
    "    ),\n",
    "    docker.types.Mount( \n",
    "        type='bind',\n",
    "        source=input_path,\n",
    "        target='/my_data/input',\n",
    "        read_only=True\n",
    "    ),\n",
    "    docker.types.Mount(\n",
    "        type='bind',\n",
    "        source=output_path,\n",
    "        target='/my_data/output',\n",
    "        read_only=False\n",
    "    ),\n",
    "    docker.types.Mount(\n",
    "        type='bind',\n",
    "        source=base_directory + '/processor.py',\n",
    "        target='/processor_app/processor.py',\n",
    "        read_only=True\n",
    "    ),    \n",
    "]\n",
    "\n",
    "# Define the service configuration\n",
    "service_config = {\n",
    "    'image': 'quick_batch_processor_app',\n",
    "    'name': 'processor_app',\n",
    "    'mounts': mounts,\n",
    "    'networks':['quick_batch_network'],\n",
    "    'command': ['python /processor_app/run.py']\n",
    "}"
   ]
  },
  {
   "cell_type": "code",
   "execution_count": null,
   "metadata": {},
   "outputs": [],
   "source": []
  }
 ],
 "metadata": {
  "kernelspec": {
   "display_name": ".venv",
   "language": "python",
   "name": "python3"
  },
  "language_info": {
   "codemirror_mode": {
    "name": "ipython",
    "version": 3
   },
   "file_extension": ".py",
   "mimetype": "text/x-python",
   "name": "python",
   "nbconvert_exporter": "python",
   "pygments_lexer": "ipython3",
   "version": "3.9.1"
  },
  "orig_nbformat": 4
 },
 "nbformat": 4,
 "nbformat_minor": 2
}
