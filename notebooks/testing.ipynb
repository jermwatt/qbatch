{
 "cells": [
  {
   "cell_type": "code",
   "execution_count": 1,
   "metadata": {},
   "outputs": [],
   "source": [
    "\n",
    "import functools\n",
    "import traceback\n",
    "\n",
    "\n",
    "def log_exceptions(func):\n",
    "    @functools.wraps(func)\n",
    "    def wrapper(*args, **kwargs):\n",
    "        func_name = func.__name__\n",
    "        try:\n",
    "            result = func(*args, **kwargs)\n",
    "        except Exception as e:\n",
    "            print(f\"FAILURE: {func_name} failed: {e}\")\n",
    "            traceback.print_exc()\n",
    "        else:\n",
    "            print(f\"SUCCESS: {func_name} succeeded\")\n",
    "            return result\n",
    "    return wrapper\n",
    "\n",
    "\n",
    "def decorate_methods(decorator):\n",
    "    def decorate(obj):\n",
    "        if isinstance(obj, type):\n",
    "            # Decorate class methods\n",
    "            for name, method in vars(obj).items():\n",
    "                if callable(method):\n",
    "                    setattr(obj, name, decorator(method))\n",
    "            return obj\n",
    "        else:\n",
    "            # Decorate standalone functions\n",
    "            return decorator(obj)\n",
    "    return decorate\n",
    "\n",
    "\n",
    "%load_ext autoreload\n",
    "%autoreload 2"
   ]
  },
  {
   "cell_type": "code",
   "execution_count": 1,
   "metadata": {},
   "outputs": [
    {
     "name": "stdout",
     "output_type": "stream",
     "text": [
      "base_directory: /Users/wattjer/Desktop/quick_batch\n",
      "processor_path: /Users/wattjer/Desktop/quick_batch/quick_batch/processor_app\n",
      "controller_path: /Users/wattjer/Desktop/quick_batch/quick_batch/controller_app\n",
      "queue_path: /Users/wattjer/Desktop/quick_batch/quick_batch/queue_app\n",
      "config_path: /Users/wattjer/Desktop/quick_batch/tests/test_configs/test_quick_batch.yaml\n",
      "input_path: /Users/wattjer/Desktop/quick_batch/tests/test_data/input_data\n",
      "output_path: /Users/wattjer/Desktop/quick_batch/tests/test_data/output_data\n"
     ]
    }
   ],
   "source": [
    "import os \n",
    "import sys \n",
    "import docker\n",
    "\n",
    "\n",
    "# path to this file's directory and parent directory\n",
    "current_directory = os.getcwd()\n",
    "base_directory = os.path.dirname(current_directory)\n",
    "\n",
    "# parent directory of base_directory\n",
    "parent_directory = os.path.dirname(base_directory)\n",
    "\n",
    "# add to path\n",
    "sys.path.append(base_directory)\n",
    "\n",
    "# define paths to each app dockerfile location \n",
    "processor_path = os.path.join(base_directory, 'quick_batch', 'processor_app')\n",
    "controller_path = os.path.join(base_directory, 'quick_batch', 'controller_app')\n",
    "queue_path = os.path.join(base_directory, 'quick_batch', 'queue_app')\n",
    "config_path = os.path.join(base_directory, 'tests/test_configs', 'test_quick_batch.yaml')\n",
    "input_path = os.path.join(base_directory, 'tests/test_data', 'input_data')\n",
    "output_path = os.path.join(base_directory, 'tests/test_data', 'output_data')\n",
    "\n",
    "print(f'base_directory: {base_directory}')\n",
    "print(f'processor_path: {processor_path}')\n",
    "print(f'controller_path: {controller_path}')\n",
    "print(f'queue_path: {queue_path}')\n",
    "print(f'config_path: {config_path}')\n",
    "print(f'input_path: {input_path}')\n",
    "print(f'output_path: {output_path}')\n",
    "\n",
    "%load_ext autoreload\n",
    "%autoreload 2"
   ]
  },
  {
   "cell_type": "code",
   "execution_count": 11,
   "metadata": {},
   "outputs": [],
   "source": [
    "import modulefinder\n",
    "\n",
    "# Create an instance of the modulefinder.ModuleFinder class\n",
    "finder = modulefinder.ModuleFinder()\n",
    "\n",
    "# Add the path to your processor.py script\n",
    "processor = base_directory + '/tests/test_processors/' + 'processor.py'\n",
    "finder.run_script(processor)\n",
    "\n",
    "# Retrieve the required modules and packages\n",
    "required_modules = finder.modules.keys()\n",
    "\n",
    "# Get the names of built-in modules\n",
    "built_in_modules = list(sys.builtin_module_names)\n",
    "\n",
    "# Retrieve the required modules excluding __main__ and built-ins\n",
    "a = [module_name for module_name in finder.modules.keys()\n",
    "                    if module_name not in built_in_modules and module_name != '__main__']\n"
   ]
  },
  {
   "cell_type": "code",
   "execution_count": 28,
   "metadata": {},
   "outputs": [],
   "source": [
    "import ast\n",
    "import sys\n",
    "\n",
    "def get_processor_requirements(processor):\n",
    "    # Parse the processor.py file to get the imported module names\n",
    "    with open(processor, 'r') as file:\n",
    "        tree = ast.parse(file.read())\n",
    "\n",
    "    imported_modules = set()\n",
    "\n",
    "    # Traverse the abstract syntax tree to extract import statements\n",
    "    for node in ast.walk(tree):\n",
    "        if isinstance(node, ast.Import):\n",
    "            for alias in node.names:\n",
    "                imported_modules.add(alias.name)\n",
    "        elif isinstance(node, ast.ImportFrom):\n",
    "            imported_modules.add(node.module)\n",
    "\n",
    "    # Exclude built-in and standard libraries\n",
    "    built_in_modules = set(sys.builtin_module_names)\n",
    "    standard_modules = set(sys.modules.keys())\n",
    "    excluded_modules = built_in_modules.union(standard_modules)\n",
    "\n",
    "    # Get the required external modules\n",
    "    installed_modules = sorted(imported_modules.difference(excluded_modules))\n",
    "\n",
    "    return installed_modules\n",
    "\n",
    "\n",
    "def write_requirements(required_modules, file_path):\n",
    "    with open(file_path, 'w') as file:\n",
    "        for module in required_modules:\n",
    "            file.write(module + '\\n')\n",
    "            \n",
    "            \n",
    "# get requirements for processor.py\n",
    "installed_modules = get_processor_requirements(processor)\n",
    "\n",
    "# write requirements to file\n",
    "write_requirements(installed_modules,'requirements_rec.txt')\n",
    "\n"
   ]
  },
  {
   "cell_type": "code",
   "execution_count": 25,
   "metadata": {},
   "outputs": [
    {
     "data": {
      "text/plain": [
       "'/Users/wattjer/Desktop/quick_batch/quick_batch/processor_app'"
      ]
     },
     "execution_count": 25,
     "metadata": {},
     "output_type": "execute_result"
    }
   ],
   "source": [
    "processor_path"
   ]
  },
  {
   "cell_type": "code",
   "execution_count": 30,
   "metadata": {},
   "outputs": [
    {
     "name": "stdout",
     "output_type": "stream",
     "text": [
      "Failed to import the module\n",
      "No module named '/Users/wattjer/Desktop/quick_batch/tests/test_processors/processor'\n"
     ]
    }
   ],
   "source": [
    "import importlib\n",
    "\n",
    "module_name = base_directory + '/tests/test_processors/' + 'processor.py'\n",
    "\n",
    "try:\n",
    "    module = importlib.import_module(module_name)\n",
    "    if hasattr(module, 'processor') and callable(module.processor):\n",
    "        print(\"The module contains a function named 'processor'\")\n",
    "    else:\n",
    "        print(\"The module does not contain a function named 'processor'\")\n",
    "except Exception as e:\n",
    "    print(\"Failed to import the module\")\n",
    "    print(e)"
   ]
  },
  {
   "cell_type": "code",
   "execution_count": 33,
   "metadata": {},
   "outputs": [
    {
     "name": "stdout",
     "output_type": "stream",
     "text": [
      "/Users/wattjer/Desktop/quick_batch/tests/test_processors/processor.py\n",
      "The module contains a function named 'processor'\n"
     ]
    }
   ],
   "source": [
    "import ast\n",
    "\n",
    "module_file = base_directory + '/tests/test_processors/' + 'processor.py'\n",
    "print(module_file)\n",
    "\n",
    "with open(module_file, 'r') as file:\n",
    "    tree = ast.parse(file.read())\n",
    "\n",
    "processor_found = False\n",
    "\n",
    "# Traverse the abstract syntax tree to find function definitions\n",
    "for node in ast.walk(tree):\n",
    "    if isinstance(node, ast.FunctionDef) and node.name == 'processor':\n",
    "        processor_found = True\n",
    "        break\n",
    "\n",
    "if processor_found:\n",
    "    print(\"The module contains a function named 'processor'\")\n",
    "else:\n",
    "    print(\"The module does not contain a function named 'processor'\")\n"
   ]
  },
  {
   "cell_type": "code",
   "execution_count": null,
   "metadata": {},
   "outputs": [],
   "source": []
  },
  {
   "cell_type": "code",
   "execution_count": null,
   "metadata": {},
   "outputs": [],
   "source": []
  },
  {
   "cell_type": "code",
   "execution_count": 6,
   "metadata": {},
   "outputs": [
    {
     "name": "stdout",
     "output_type": "stream",
     "text": [
      "/Users/wattjer/Desktop/quick_batch/tests/test_processors/processor.py\n",
      "dict_keys(['__main__', 'time', 'os', 'abc', '_abc', '_py_abc', '_weakrefset', '_weakref', 'types', 'sys', 'functools', 'collections', '_collections_abc', 'heapq', '_heapq', 'doctest', '__future__', 'difflib', 're', 'enum', 'sre_compile', '_sre', 'sre_parse', 'sre_constants', 'unicodedata', 'warnings', '_warnings', 'linecache', 'tokenize', 'builtins', 'codecs', '_codecs', 'encodings', 'encodings.aliases', 'encodings.mbcs', 'io', '_io', 'itertools', 'token', 'argparse', 'gettext', 'locale', '_locale', '_bootlocale', 'struct', '_struct', 'errno', 'copy', 'weakref', 'atexit', 'gc', 'copyreg', 'shutil', 'stat', '_stat', 'fnmatch', 'posixpath', 'genericpath', 'pwd', 'zlib', 'bz2', '_compression', 'threading', '_thread', '_collections', 'traceback', '_threading_local', 'contextlib', '_bz2', 'lzma', '_lzma', 'grp', 'posix', 'tarfile', 'gzip', 'zipfile', 'binascii', 'importlib', '_imp', 'importlib._bootstrap', 'importlib._bootstrap_external', 'importlib.metadata', 'csv', '_csv', 'email', 'email.parser', 'email.feedparser', 'email.errors', 'email._policybase', 'email.header', 'email.quoprimime', 'string', '_string', 'email.base64mime', 'base64', 'getopt', 'email.charset', 'email.encoders', 'quopri', 'email.utils', 'random', 'math', 'bisect', '_bisect', '_random', '_sha512', 'hashlib', '_hashlib', 'logging', 'collections.abc', 'pickle', '_compat_pickle', '_pickle', 'pprint', '_sha1', '_md5', '_sha256', '_blake2', '_sha3', 'statistics', 'numbers', 'fractions', 'decimal', '_decimal', '_pydecimal', 'contextvars', '_contextvars', 'operator', '_operator', '_statistics', 'socket', '_socket', 'selectors', 'select', 'array', 'datetime', '_datetime', '_strptime', 'calendar', 'urllib', 'urllib.parse', 'email._parseaddr', 'email.message', 'uu', 'optparse', 'textwrap', 'email._encoded_words', 'email.iterators', 'email.generator', 'email.policy', 'email.headerregistry', 'email._header_value_parser', 'email.contentmanager', 'pathlib', 'ntpath', 'configparser', 'importlib.abc', 'importlib.machinery', 'typing', 'importlib.util', 'py_compile', 'tracemalloc', '_tracemalloc', 'inspect', 'ast', '_ast', 'dis', 'opcode', '_opcode', 'pdb', 'cmd', 'readline', 'bdb', 'reprlib', 'code', 'codeop', 'glob', 'signal', '_signal', 'shlex', 'runpy', 'pkgutil', 'zipimport', 'marshal', 'pydoc', 'platform', 'subprocess', '_posixsubprocess', 'plistlib', 'xml', 'xml.parsers', 'xml.parsers.expat', 'pyexpat', 'sysconfig', '_osx_support', 'tempfile', 'distutils', 'distutils.log', '_aix_support', '_bootsubprocess', 'tty', 'termios', 'pydoc_data', 'pydoc_data.topics', 'http', 'http.server', 'html', 'html.entities', 'http.client', 'ssl', '_ssl', 'mimetypes', 'socketserver', 'webbrowser', 'unittest', 'unittest.result', 'unittest.util', 'unittest.case', 'unittest._log', 'unittest.suite', 'unittest.loader', 'unittest.main', 'unittest.runner', 'unittest.signals', 'unittest.async_case', 'asyncio', 'asyncio.base_events', 'concurrent', 'concurrent.futures', 'concurrent.futures._base', 'concurrent.futures.process', 'queue', '_queue', 'multiprocessing', 'multiprocessing.context', 'multiprocessing.process', 'multiprocessing.util', 'test', 'test.support', 'test.support.testresult', 'xml.etree', 'xml.etree.ElementTree', 'xml.etree.ElementPath', '_elementtree', 'ctypes', '_ctypes', 'ctypes._endian', 'ctypes.wintypes', 'ctypes.util', 'ctypes.macholib', 'ctypes.macholib.dyld', 'ctypes.macholib.framework', 'ctypes.macholib.dylib', 'ctypes._aix', 'tkinter', '_tkinter', 'tkinter.constants', 'urllib.request', 'urllib.error', 'urllib.response', 'nturl2path', '_scproxy', 'http.cookiejar', 'ftplib', 'netrc', 'getpass', '_testinternalcapi', 'faulthandler', 'resource', '_testcapi', 'distutils.ccompiler', 'distutils.errors', 'distutils.spawn', 'distutils.debug', 'distutils.sysconfig', 'distutils.text_file', 'distutils.file_util', 'distutils.dep_util', 'distutils.dir_util', 'distutils.util', 'lib2to3', 'lib2to3.refactor', 'lib2to3.pgen2', 'lib2to3.pgen2.driver', 'lib2to3.pgen2.grammar', 'lib2to3.pgen2.token', 'lib2to3.pgen2.parse', 'lib2to3.pgen2.tokenize', 'lib2to3.pgen2.pgen', 'lib2to3.fixer_util', 'lib2to3.pytree', 'lib2to3.pygram', 'lib2to3.patcomp', 'lib2to3.pgen2.literals', 'lib2to3.btm_matcher', 'lib2to3.btm_utils', 'distutils.filelist', 'distutils.fancy_getopt', 'asyncio.events', 'asyncio.format_helpers', 'asyncio.constants', '_asyncio', 'multiprocessing.forkserver', 'multiprocessing.connection', '_multiprocessing', 'hmac', 'xmlrpc', 'xmlrpc.client', 'multiprocessing.resource_sharer', 'multiprocessing.resource_tracker', 'multiprocessing.spawn', '_posixshmem', 'multiprocessing.reduction', 'multiprocessing.managers', 'multiprocessing.pool', 'multiprocessing.dummy', 'multiprocessing.dummy.connection', 'multiprocessing.shared_memory', 'mmap', 'secrets', 'multiprocessing.synchronize', 'multiprocessing.heap', 'multiprocessing.queues', 'multiprocessing.sharedctypes', 'multiprocessing.popen_fork', 'multiprocessing.popen_spawn_posix', 'multiprocessing.popen_forkserver', 'multiprocessing.popen_spawn_win32', 'concurrent.futures.thread', 'asyncio.coroutines', 'asyncio.base_futures', 'asyncio.log', 'asyncio.exceptions', 'asyncio.futures', 'asyncio.protocols', 'asyncio.sslproto', 'asyncio.transports', 'asyncio.staggered', 'asyncio.locks', 'asyncio.tasks', 'asyncio.base_tasks', 'asyncio.queues', 'asyncio.trsock', 'asyncio.runners', 'asyncio.streams', 'asyncio.subprocess', 'asyncio.threads', 'asyncio.windows_events', 'asyncio.base_subprocess', 'asyncio.proactor_events', 'asyncio.selector_events', 'asyncio.windows_utils', 'asyncio.unix_events', 'keyword', '_functools'])\n"
     ]
    }
   ],
   "source": [
    "import modulefinder\n",
    "\n",
    "processor = base_directory + '/tests/test_processors/' + 'processor.py'\n",
    "print(processor)\n",
    "\n",
    "# Create an instance of the modulefinder.ModuleFinder class\n",
    "finder = modulefinder.ModuleFinder()\n",
    "\n",
    "# Add the path to your processor.py script\n",
    "finder.run_script(processor)\n",
    "\n",
    "# Retrieve the required modules and packages\n",
    "required_modules = finder.modules.keys()\n",
    "print(required_modules)\n",
    "\n",
    "# Get the names of built-in modules\n",
    "built_in_modules = sys.builtin_module_names\n",
    "\n",
    "# Retrieve the required modules excluding __main__ and built-ins\n",
    "required_modules = [module_name for module_name in finder.modules.keys()\n",
    "                    if module_name not in built_in_modules and module_name != '__main__']\n",
    "\n",
    "# Print the required modules\n",
    "for module in required_modules:\n",
    "    print(module)"
   ]
  },
  {
   "cell_type": "code",
   "execution_count": 200,
   "metadata": {},
   "outputs": [
    {
     "data": {
      "text/plain": [
       "[]"
      ]
     },
     "execution_count": 200,
     "metadata": {},
     "output_type": "execute_result"
    }
   ],
   "source": [
    "required_modules"
   ]
  },
  {
   "attachments": {},
   "cell_type": "markdown",
   "metadata": {},
   "source": [
    "# services and swarm"
   ]
  },
  {
   "cell_type": "code",
   "execution_count": 188,
   "metadata": {},
   "outputs": [],
   "source": [
    "@log_exceptions\n",
    "def create_client():\n",
    "    return docker.from_env()\n",
    "\n",
    "\n",
    "\n",
    "\n",
    "\n",
    "\n",
    "        \n"
   ]
  },
  {
   "cell_type": "code",
   "execution_count": 189,
   "metadata": {},
   "outputs": [
    {
     "name": "stdout",
     "output_type": "stream",
     "text": [
      "SUCCESS: remove_all_services succeeded\n"
     ]
    }
   ],
   "source": [
    "# creater docker client\n",
    "client = docker.from_env()\n",
    "\n",
    "# remove all services \n",
    "remove_all_services(client)"
   ]
  },
  {
   "cell_type": "code",
   "execution_count": 184,
   "metadata": {},
   "outputs": [
    {
     "data": {
      "text/plain": [
       "[]"
      ]
     },
     "execution_count": 184,
     "metadata": {},
     "output_type": "execute_result"
    }
   ],
   "source": [
    "client.services.list()"
   ]
  },
  {
   "cell_type": "code",
   "execution_count": 190,
   "metadata": {},
   "outputs": [
    {
     "name": "stdout",
     "output_type": "stream",
     "text": [
      "SUCCESS: remove_all_services succeeded\n",
      "SUCCESS: leave_swarm succeeded\n",
      "SUCCESS: create_swarm succeeded\n",
      "SUCCESS: create_network succeeded\n",
      "SUCCESS: remove_all_services succeeded\n",
      "SUCCESS: remove_service succeeded\n",
      "SUCCESS: create_queue_service succeeded\n",
      "SUCCESS: remove_service succeeded\n",
      "SUCCESS: create_processor_service succeeded\n",
      "10\n",
      "10\n",
      "10\n",
      "8\n",
      "8\n",
      "8\n",
      "6\n",
      "6\n",
      "6\n",
      "4\n",
      "4\n",
      "3\n",
      "2\n",
      "2\n",
      "1\n",
      "0\n",
      "SUCCESS: remove_all_services succeeded\n",
      "SUCCESS: remove_all_containers succeeded\n",
      "SUCCESS: remove_network succeeded\n"
     ]
    }
   ],
   "source": [
    "import time \n",
    "\n",
    "# creater docker client\n",
    "client = docker.from_env()\n",
    "\n",
    "\n",
    "\n",
    "\n",
    "\n",
    "\n",
    "\n"
   ]
  },
  {
   "cell_type": "code",
   "execution_count": null,
   "metadata": {},
   "outputs": [],
   "source": []
  }
 ],
 "metadata": {
  "kernelspec": {
   "display_name": ".venv",
   "language": "python",
   "name": "python3"
  },
  "language_info": {
   "codemirror_mode": {
    "name": "ipython",
    "version": 3
   },
   "file_extension": ".py",
   "mimetype": "text/x-python",
   "name": "python",
   "nbconvert_exporter": "python",
   "pygments_lexer": "ipython3",
   "version": "3.9.1"
  },
  "orig_nbformat": 4
 },
 "nbformat": 4,
 "nbformat_minor": 2
}
