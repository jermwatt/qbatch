{
 "cells": [
  {
   "cell_type": "code",
   "execution_count": 1,
   "metadata": {},
   "outputs": [],
   "source": [
    "\n",
    "import functools\n",
    "import traceback\n",
    "\n",
    "\n",
    "def log_exceptions(func):\n",
    "    @functools.wraps(func)\n",
    "    def wrapper(*args, **kwargs):\n",
    "        func_name = func.__name__\n",
    "        try:\n",
    "            result = func(*args, **kwargs)\n",
    "        except Exception as e:\n",
    "            print(f\"FAILURE: {func_name} failed: {e}\")\n",
    "            traceback.print_exc()\n",
    "        else:\n",
    "            print(f\"SUCCESS: {func_name} succeeded\")\n",
    "            return result\n",
    "    return wrapper\n",
    "\n",
    "\n",
    "def decorate_methods(decorator):\n",
    "    def decorate(obj):\n",
    "        if isinstance(obj, type):\n",
    "            # Decorate class methods\n",
    "            for name, method in vars(obj).items():\n",
    "                if callable(method):\n",
    "                    setattr(obj, name, decorator(method))\n",
    "            return obj\n",
    "        else:\n",
    "            # Decorate standalone functions\n",
    "            return decorator(obj)\n",
    "    return decorate\n",
    "\n",
    "\n",
    "%load_ext autoreload\n",
    "%autoreload 2"
   ]
  },
  {
   "cell_type": "code",
   "execution_count": 6,
   "metadata": {},
   "outputs": [
    {
     "name": "stdout",
     "output_type": "stream",
     "text": [
      "base_directory: /Users/wattjer/Desktop/quick_batch\n",
      "processor_path: /Users/wattjer/Desktop/quick_batch/quick_batch/processor_app\n",
      "controller_path: /Users/wattjer/Desktop/quick_batch/quick_batch/controller_app\n",
      "queue_path: /Users/wattjer/Desktop/quick_batch/quick_batch/queue_app\n",
      "config_path: /Users/wattjer/Desktop/quick_batch/tests/test_configs/test_quick_batch.yaml\n",
      "input_path: /Users/wattjer/Desktop/quick_batch/tests/test_data/input_data\n",
      "output_path: /Users/wattjer/Desktop/quick_batch/tests/test_data/output_data\n"
     ]
    }
   ],
   "source": [
    "import os \n",
    "import sys \n",
    "import docker\n",
    "\n",
    "\n",
    "# path to this file's directory and parent directory\n",
    "current_directory = os.getcwd()\n",
    "base_directory = os.path.dirname(current_directory)\n",
    "\n",
    "# parent directory of base_directory\n",
    "parent_directory = os.path.dirname(base_directory)\n",
    "\n",
    "# add to path\n",
    "sys.path.append(base_directory)\n",
    "\n",
    "# define paths to each app dockerfile location \n",
    "processor_path = os.path.join(base_directory, 'quick_batch', 'processor_app')\n",
    "controller_path = os.path.join(base_directory, 'quick_batch', 'controller_app')\n",
    "queue_path = os.path.join(base_directory, 'quick_batch', 'queue_app')\n",
    "config_path = os.path.join(base_directory, 'tests/test_configs', 'test_quick_batch.yaml')\n",
    "input_path = os.path.join(base_directory, 'tests/test_data', 'input_data')\n",
    "output_path = os.path.join(base_directory, 'tests/test_data', 'output_data')\n",
    "\n",
    "print(f'base_directory: {base_directory}')\n",
    "print(f'processor_path: {processor_path}')\n",
    "print(f'controller_path: {controller_path}')\n",
    "print(f'queue_path: {queue_path}')\n",
    "print(f'config_path: {config_path}')\n",
    "print(f'input_path: {input_path}')\n",
    "print(f'output_path: {output_path}')\n",
    "\n"
   ]
  },
  {
   "attachments": {},
   "cell_type": "markdown",
   "metadata": {},
   "source": [
    "# services and swarm"
   ]
  },
  {
   "cell_type": "code",
   "execution_count": 188,
   "metadata": {},
   "outputs": [],
   "source": [
    "@log_exceptions\n",
    "def create_client():\n",
    "    return docker.from_env()\n",
    "\n",
    "\n",
    "\n",
    "\n",
    "\n",
    "\n",
    "        \n"
   ]
  },
  {
   "cell_type": "code",
   "execution_count": 189,
   "metadata": {},
   "outputs": [
    {
     "name": "stdout",
     "output_type": "stream",
     "text": [
      "SUCCESS: remove_all_services succeeded\n"
     ]
    }
   ],
   "source": [
    "# creater docker client\n",
    "client = docker.from_env()\n",
    "\n",
    "# remove all services \n",
    "remove_all_services(client)"
   ]
  },
  {
   "cell_type": "code",
   "execution_count": 184,
   "metadata": {},
   "outputs": [
    {
     "data": {
      "text/plain": [
       "[]"
      ]
     },
     "execution_count": 184,
     "metadata": {},
     "output_type": "execute_result"
    }
   ],
   "source": [
    "client.services.list()"
   ]
  },
  {
   "cell_type": "code",
   "execution_count": 190,
   "metadata": {},
   "outputs": [
    {
     "name": "stdout",
     "output_type": "stream",
     "text": [
      "SUCCESS: remove_all_services succeeded\n",
      "SUCCESS: leave_swarm succeeded\n",
      "SUCCESS: create_swarm succeeded\n",
      "SUCCESS: create_network succeeded\n",
      "SUCCESS: remove_all_services succeeded\n",
      "SUCCESS: remove_service succeeded\n",
      "SUCCESS: create_queue_service succeeded\n",
      "SUCCESS: remove_service succeeded\n",
      "SUCCESS: create_processor_service succeeded\n",
      "10\n",
      "10\n",
      "10\n",
      "8\n",
      "8\n",
      "8\n",
      "6\n",
      "6\n",
      "6\n",
      "4\n",
      "4\n",
      "3\n",
      "2\n",
      "2\n",
      "1\n",
      "0\n",
      "SUCCESS: remove_all_services succeeded\n",
      "SUCCESS: remove_all_containers succeeded\n",
      "SUCCESS: remove_network succeeded\n"
     ]
    }
   ],
   "source": [
    "import time \n",
    "\n",
    "# creater docker client\n",
    "client = docker.from_env()\n",
    "\n",
    "\n",
    "\n",
    "\n",
    "\n",
    "\n",
    "\n"
   ]
  },
  {
   "cell_type": "code",
   "execution_count": null,
   "metadata": {},
   "outputs": [],
   "source": []
  }
 ],
 "metadata": {
  "kernelspec": {
   "display_name": ".venv",
   "language": "python",
   "name": "python3"
  },
  "language_info": {
   "codemirror_mode": {
    "name": "ipython",
    "version": 3
   },
   "file_extension": ".py",
   "mimetype": "text/x-python",
   "name": "python",
   "nbconvert_exporter": "python",
   "pygments_lexer": "ipython3",
   "version": "3.9.1"
  },
  "orig_nbformat": 4
 },
 "nbformat": 4,
 "nbformat_minor": 2
}
